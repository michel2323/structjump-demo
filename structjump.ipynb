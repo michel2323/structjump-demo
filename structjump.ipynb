{
 "cells": [
  {
   "cell_type": "markdown",
   "metadata": {},
   "source": [
    "Activate the environment and instantiate it if you have not done so yet."
   ]
  },
  {
   "cell_type": "code",
   "execution_count": 1,
   "metadata": {},
   "outputs": [
    {
     "data": {
      "text/plain": [
       "\"/home/michel/git/structjump-demo/Project.toml\""
      ]
     },
     "execution_count": 1,
     "metadata": {},
     "output_type": "execute_result"
    }
   ],
   "source": [
    "using Pkg\n",
    "Pkg.activate(\".\")"
   ]
  },
  {
   "cell_type": "markdown",
   "metadata": {},
   "source": [
    "Load StructJuMP"
   ]
  },
  {
   "cell_type": "code",
   "execution_count": 2,
   "metadata": {},
   "outputs": [],
   "source": [
    "using StructJuMP"
   ]
  },
  {
   "cell_type": "markdown",
   "metadata": {},
   "source": [
    "We now create a structured model `m`. At this point the number of second-stage submodels is set, referring to them as *scenarios*."
   ]
  },
  {
   "cell_type": "code",
   "execution_count": 3,
   "metadata": {},
   "outputs": [
    {
     "data": {
      "text/latex": [
       "$$ \\begin{alignat*}{1}\\min\\quad & 0\\\\\n",
       "\\text{Subject to} \\quad\\end{alignat*}\n",
       " $$"
      ],
      "text/plain": [
       "Feasibility problem with:\n",
       " * 0 linear constraints\n",
       " * 0 variables\n",
       "Solver is default solver"
      ]
     },
     "execution_count": 3,
     "metadata": {},
     "output_type": "execute_result"
    }
   ],
   "source": [
    "num_scenarios=2\n",
    "m = StructuredModel(num_scenarios=num_scenarios)"
   ]
  },
  {
   "cell_type": "markdown",
   "metadata": {},
   "source": [
    "The model is printed and we see it is empty. Like the underlying modeling framework [JuMP](https://github.com/JuliaOpt/JuMP.jl), there are 3 basic components of a model object: `@variable`, `@constraint`, and `@objective`. In addition, nonlinear constraints and objectives are set via `@NLconstraint` and `@NLobjective`."
   ]
  },
  {
   "cell_type": "code",
   "execution_count": 4,
   "metadata": {},
   "outputs": [
    {
     "data": {
      "text/latex": [
       "$$ \\begin{alignat*}{1}\\min\\quad & ((x_{1} - y_{3}) + 2.0 * x_{6} + x_{1} * x_{2}) - (2.0 * y_{4}) * x_{3}\\\\\n",
       "\\text{Subject to} \\quad & x_{1} - y_{1} \\leq 1\\\\\n",
       " & x_{2} - y_{2} \\leq 2\\\\\n",
       " & x_{3} - y_{3} \\leq 3\\\\\n",
       " & x_{4} - y_{4} \\leq 4\\\\\n",
       " & x_{5} - y_{5} \\leq 5\\\\\n",
       " & x_{6} - y_{6} \\leq 6\\\\\n",
       " & x_{i} \\geq 0 \\quad\\forall i \\in \\{1,2,\\dots,5,6\\}\\\\\n",
       " & y_{i} \\geq 0 \\quad\\forall i \\in \\{1,2,\\dots,5,6\\}\\\\\n",
       "\\end{alignat*}\n",
       " $$"
      ],
      "text/plain": [
       "Minimization problem with:\n",
       " * 6 linear constraints\n",
       " * 12 variables\n",
       "Solver is default solver"
      ]
     },
     "execution_count": 4,
     "metadata": {},
     "output_type": "execute_result"
    }
   ],
   "source": [
    "n=6\n",
    "@variable(m, x[1:n] >= 0)\n",
    "@variable(m, y[1:n] >= 0)\n",
    "for i in 1:n\n",
    "    @constraint(m, x[i] - y[i] <= i)\n",
    "end\n",
    "@NLobjective(m, :Min, x[1] - y[3] + 2x[6] + x[1]*x[2] - 2y[4]*x[3])\n",
    "m"
   ]
  },
  {
   "cell_type": "markdown",
   "metadata": {},
   "source": [
    "The above defines the first stage described by `m`. Notice how we can print the model. We now want to create the 2 second-stage models and connect them to the first stage `m`. We create the scenarios using a `for` loop. `StructuredModel` creates a submodel `mk` attached to the parent `m` and with a unique identifier `i`."
   ]
  },
  {
   "cell_type": "code",
   "execution_count": 5,
   "metadata": {},
   "outputs": [],
   "source": [
    "for i in 1:num_scenarios\n",
    "    mk = StructuredModel(parent=m,id=i)\n",
    "    @variable(mk, w[1:n] >= 0)\n",
    "    @constraint(mk, sum(i*w[i] for i=2:2:n) == 1)\n",
    "    @NLconstraint(mk, sum(x[i] - 2w[n-i+1] for i=1:n) <= 0)\n",
    "    @NLobjective(mk, :Min, w[5] - w[1]*w[1] + 2w[2]*w[3])\n",
    "end"
   ]
  },
  {
   "cell_type": "markdown",
   "metadata": {},
   "source": [
    "Let's print again the entire model."
   ]
  },
  {
   "cell_type": "code",
   "execution_count": 6,
   "metadata": {
    "scrolled": false
   },
   "outputs": [
    {
     "name": "stdout",
     "output_type": "stream",
     "text": [
      "Min ((x[1] - y[3]) + 2.0 * x[6] + x[1] * x[2]) - (2.0 * y[4]) * x[3]\n",
      "Subject to\n",
      " x[1] - y[1] ≤ 1\n",
      " x[2] - y[2] ≤ 2\n",
      " x[3] - y[3] ≤ 3\n",
      " x[4] - y[4] ≤ 4\n",
      " x[5] - y[5] ≤ 5\n",
      " x[6] - y[6] ≤ 6\n",
      " x[i] ≥ 0 ∀ i ∈ {1,2,…,5,6}\n",
      " y[i] ≥ 0 ∀ i ∈ {1,2,…,5,6}\n",
      "*** children ***\n",
      "Child ID 2:\n",
      "Min (w[5] - w[1] * w[1]) + (2.0 * w[2]) * w[3]\n",
      "Subject to\n",
      " 2 w[2] + 4 w[4] + 6 w[6] = 1\n",
      " ((x[1] - 2.0 * w[6]) + (x[2] - 2.0 * w[5]) + (x[3] - 2.0 * w[4]) + (x[4] - 2.0 * w[3]) + (x[5] - 2.0 * w[2]) + (x[6] - 2.0 * w[1])) - 0.0 ≤ 0\n",
      " w[i] ≥ 0 ∀ i ∈ {1,2,…,5,6}\n",
      " x[1] ≥ 0\n",
      " x[2] ≥ 0\n",
      " x[3] ≥ 0\n",
      " x[4] ≥ 0\n",
      " x[5] ≥ 0\n",
      " x[6] ≥ 0\n",
      "*** children ***\n",
      "\n",
      "Child ID 1:\n",
      "Min (w[5] - w[1] * w[1]) + (2.0 * w[2]) * w[3]\n",
      "Subject to\n",
      " 2 w[2] + 4 w[4] + 6 w[6] = 1\n",
      " ((x[1] - 2.0 * w[6]) + (x[2] - 2.0 * w[5]) + (x[3] - 2.0 * w[4]) + (x[4] - 2.0 * w[3]) + (x[5] - 2.0 * w[2]) + (x[6] - 2.0 * w[1])) - 0.0 ≤ 0\n",
      " w[i] ≥ 0 ∀ i ∈ {1,2,…,5,6}\n",
      " x[1] ≥ 0\n",
      " x[2] ≥ 0\n",
      " x[3] ≥ 0\n",
      " x[4] ≥ 0\n",
      " x[5] ≥ 0\n",
      " x[6] ≥ 0\n",
      "*** children ***\n",
      "\n"
     ]
    }
   ],
   "source": [
    "print(m)"
   ]
  },
  {
   "cell_type": "markdown",
   "metadata": {},
   "source": [
    "We have now created a model. In order to solve it we need to load a solver interface. `StructJuMP` was initially designed as a generic package to run with a variety of solvers. Currently, we support `Ipopt` and the large-scale interior point solver [PIPS](https://github.com/Argonne-National-Laboratory/PIPS). These are loaded via the package `StructJuMPSolverInterface`."
   ]
  },
  {
   "cell_type": "code",
   "execution_count": 7,
   "metadata": {},
   "outputs": [],
   "source": [
    "using StructJuMPSolverInterface"
   ]
  },
  {
   "cell_type": "markdown",
   "metadata": {},
   "source": [
    "In a distributed parallel setting using `MPI`, we can print the local children."
   ]
  },
  {
   "cell_type": "code",
   "execution_count": 8,
   "metadata": {},
   "outputs": [
    {
     "data": {
      "text/plain": [
       "2-element Array{Int64,1}:\n",
       " 1\n",
       " 2"
      ]
     },
     "execution_count": 8,
     "metadata": {},
     "output_type": "execute_result"
    }
   ],
   "source": [
    "getLocalChildrenIds(m)"
   ]
  },
  {
   "cell_type": "markdown",
   "metadata": {},
   "source": [
    "Here we see both children as we run sequentially. We can access and print the local children at any time."
   ]
  },
  {
   "cell_type": "code",
   "execution_count": 9,
   "metadata": {},
   "outputs": [
    {
     "name": "stdout",
     "output_type": "stream",
     "text": [
      "Min (w[5] - w[1] * w[1]) + (2.0 * w[2]) * w[3]\n",
      "Subject to\n",
      " 2 w[2] + 4 w[4] + 6 w[6] = 1\n",
      " ((x[1] - 2.0 * w[6]) + (x[2] - 2.0 * w[5]) + (x[3] - 2.0 * w[4]) + (x[4] - 2.0 * w[3]) + (x[5] - 2.0 * w[2]) + (x[6] - 2.0 * w[1])) - 0.0 ≤ 0\n",
      " w[i] ≥ 0 ∀ i ∈ {1,2,…,5,6}\n",
      " x[1] ≥ 0\n",
      " x[2] ≥ 0\n",
      " x[3] ≥ 0\n",
      " x[4] ≥ 0\n",
      " x[5] ≥ 0\n",
      " x[6] ≥ 0\n",
      "*** children ***\n",
      "Min (w[5] - w[1] * w[1]) + (2.0 * w[2]) * w[3]\n",
      "Subject to\n",
      " 2 w[2] + 4 w[4] + 6 w[6] = 1\n",
      " ((x[1] - 2.0 * w[6]) + (x[2] - 2.0 * w[5]) + (x[3] - 2.0 * w[4]) + (x[4] - 2.0 * w[3]) + (x[5] - 2.0 * w[2]) + (x[6] - 2.0 * w[1])) - 0.0 ≤ 0\n",
      " w[i] ≥ 0 ∀ i ∈ {1,2,…,5,6}\n",
      " x[1] ≥ 0\n",
      " x[2] ≥ 0\n",
      " x[3] ≥ 0\n",
      " x[4] ≥ 0\n",
      " x[5] ≥ 0\n",
      " x[6] ≥ 0\n",
      "*** children ***\n"
     ]
    }
   ],
   "source": [
    "for i in getLocalChildrenIds(m)\n",
    "    print(getchildren(m)[i])\n",
    "end"
   ]
  },
  {
   "cell_type": "code",
   "execution_count": 10,
   "metadata": {},
   "outputs": [],
   "source": [
    "using Ipopt"
   ]
  },
  {
   "cell_type": "code",
   "execution_count": 11,
   "metadata": {},
   "outputs": [
    {
     "name": "stderr",
     "output_type": "stream",
     "text": [
      "┌ Warning: Variable value not defined for x[1]. Check that the model was properly solved.\n",
      "└ @ JuMP /home/michel/.julia/packages/JuMP/PbnIJ/src/JuMP.jl:448\n",
      "┌ Warning: Variable value not defined for x[2]. Check that the model was properly solved.\n",
      "└ @ JuMP /home/michel/.julia/packages/JuMP/PbnIJ/src/JuMP.jl:448\n",
      "┌ Warning: Variable value not defined for x[3]. Check that the model was properly solved.\n",
      "└ @ JuMP /home/michel/.julia/packages/JuMP/PbnIJ/src/JuMP.jl:448\n",
      "┌ Warning: Variable value not defined for x[4]. Check that the model was properly solved.\n",
      "└ @ JuMP /home/michel/.julia/packages/JuMP/PbnIJ/src/JuMP.jl:448\n",
      "┌ Warning: Variable value not defined for x[5]. Check that the model was properly solved.\n",
      "└ @ JuMP /home/michel/.julia/packages/JuMP/PbnIJ/src/JuMP.jl:448\n",
      "┌ Warning: Variable value not defined for x[6]. Check that the model was properly solved.\n",
      "└ @ JuMP /home/michel/.julia/packages/JuMP/PbnIJ/src/JuMP.jl:448\n",
      "┌ Warning: Variable value not defined for y[1]. Check that the model was properly solved.\n",
      "└ @ JuMP /home/michel/.julia/packages/JuMP/PbnIJ/src/JuMP.jl:448\n",
      "┌ Warning: Variable value not defined for y[2]. Check that the model was properly solved.\n",
      "└ @ JuMP /home/michel/.julia/packages/JuMP/PbnIJ/src/JuMP.jl:448\n",
      "┌ Warning: Variable value not defined for y[3]. Check that the model was properly solved.\n",
      "└ @ JuMP /home/michel/.julia/packages/JuMP/PbnIJ/src/JuMP.jl:448\n",
      "┌ Warning: Variable value not defined for y[4]. Check that the model was properly solved.\n",
      "└ @ JuMP /home/michel/.julia/packages/JuMP/PbnIJ/src/JuMP.jl:448\n",
      "┌ Warning: Variable value not defined for y[5]. Check that the model was properly solved.\n",
      "└ @ JuMP /home/michel/.julia/packages/JuMP/PbnIJ/src/JuMP.jl:448\n",
      "┌ Warning: Variable value not defined for y[6]. Check that the model was properly solved.\n",
      "└ @ JuMP /home/michel/.julia/packages/JuMP/PbnIJ/src/JuMP.jl:448\n",
      "┌ Warning: Variable value not defined for w[1]. Check that the model was properly solved.\n",
      "└ @ JuMP /home/michel/.julia/packages/JuMP/PbnIJ/src/JuMP.jl:448\n",
      "┌ Warning: Variable value not defined for w[2]. Check that the model was properly solved.\n",
      "└ @ JuMP /home/michel/.julia/packages/JuMP/PbnIJ/src/JuMP.jl:448\n",
      "┌ Warning: Variable value not defined for w[3]. Check that the model was properly solved.\n",
      "└ @ JuMP /home/michel/.julia/packages/JuMP/PbnIJ/src/JuMP.jl:448\n",
      "┌ Warning: Variable value not defined for w[4]. Check that the model was properly solved.\n",
      "└ @ JuMP /home/michel/.julia/packages/JuMP/PbnIJ/src/JuMP.jl:448\n",
      "┌ Warning: Variable value not defined for w[5]. Check that the model was properly solved.\n",
      "└ @ JuMP /home/michel/.julia/packages/JuMP/PbnIJ/src/JuMP.jl:448\n",
      "┌ Warning: Variable value not defined for w[6]. Check that the model was properly solved.\n",
      "└ @ JuMP /home/michel/.julia/packages/JuMP/PbnIJ/src/JuMP.jl:448\n",
      "┌ Warning: Variable value not defined for w[1]. Check that the model was properly solved.\n",
      "└ @ JuMP /home/michel/.julia/packages/JuMP/PbnIJ/src/JuMP.jl:448\n",
      "┌ Warning: Variable value not defined for w[2]. Check that the model was properly solved.\n",
      "└ @ JuMP /home/michel/.julia/packages/JuMP/PbnIJ/src/JuMP.jl:448\n",
      "┌ Warning: Variable value not defined for w[3]. Check that the model was properly solved.\n",
      "└ @ JuMP /home/michel/.julia/packages/JuMP/PbnIJ/src/JuMP.jl:448\n",
      "┌ Warning: Variable value not defined for w[4]. Check that the model was properly solved.\n",
      "└ @ JuMP /home/michel/.julia/packages/JuMP/PbnIJ/src/JuMP.jl:448\n",
      "┌ Warning: Variable value not defined for w[5]. Check that the model was properly solved.\n",
      "└ @ JuMP /home/michel/.julia/packages/JuMP/PbnIJ/src/JuMP.jl:448\n",
      "┌ Warning: Variable value not defined for w[6]. Check that the model was properly solved.\n",
      "└ @ JuMP /home/michel/.julia/packages/JuMP/PbnIJ/src/JuMP.jl:448\n"
     ]
    },
    {
     "name": "stdout",
     "output_type": "stream",
     "text": [
      "\n",
      "******************************************************************************\n",
      "This program contains Ipopt, a library for large-scale nonlinear optimization.\n",
      " Ipopt is released as open source code under the Eclipse Public License (EPL).\n",
      "         For more information visit http://projects.coin-or.org/Ipopt\n",
      "******************************************************************************\n",
      "\n",
      "This is Ipopt version 3.12.10, running with linear solver mumps.\n",
      "NOTE: Other linear solvers might be more efficient (see Ipopt documentation).\n",
      "\n",
      "Number of nonzeros in equality constraint Jacobian...:        6\n",
      "Number of nonzeros in inequality constraint Jacobian.:       36\n",
      "Number of nonzeros in Lagrangian Hessian.............:       14\n",
      "\n",
      "Total number of variables............................:       24\n",
      "                     variables with only lower bounds:       24\n",
      "                variables with lower and upper bounds:        0\n",
      "                     variables with only upper bounds:        0\n",
      "Total number of equality constraints.................:        2\n",
      "Total number of inequality constraints...............:        8\n",
      "        inequality constraints with only lower bounds:        0\n",
      "   inequality constraints with lower and upper bounds:        0\n",
      "        inequality constraints with only upper bounds:        8\n",
      "\n",
      "iter    objective    inf_pr   inf_du lg(mu)  ||d||  lg(rg) alpha_du alpha_pr  ls\n",
      "   0  5.0000000e+00 1.10e+01 3.13e+00  -1.0 0.00e+00    -  0.00e+00 0.00e+00   0\n",
      "   1 -1.5514904e+02 3.74e+00 1.43e+01  -1.0 1.03e+01   0.0 8.83e-02 6.60e-01f  1\n",
      "   2 -3.9565544e+02 2.17e+00 2.03e+01  -1.0 1.07e+01   0.4 3.71e-01 4.20e-01f  1\n",
      "   3 -4.9966451e+02 1.21e+00 2.22e+01  -1.0 3.45e+00   0.9 9.39e-01 4.42e-01f  1\n",
      "   4 -1.4202414e+03 7.31e-01 3.55e+01  -1.0 2.35e+01   0.4 4.54e-01 3.96e-01f  1\n",
      "   5 -1.9773862e+03 3.09e-01 4.10e+01  -1.0 7.14e+00   0.8 1.00e+00 5.77e-01f  1\n",
      "   6 -2.8789657e+03 2.83e-01 4.92e+01  -1.0 6.54e+01   0.3 3.13e-01 8.47e-02f  1\n",
      "   7 -5.3366832e+03 1.11e-16 6.56e+01  -1.0 1.17e+01   0.7 1.00e+00 1.00e+00f  1\n",
      "   8 -6.8506906e+03 1.11e-16 7.42e+01  -1.0 1.70e+02   0.3 1.89e-01 3.41e-02f  1\n",
      "   9 -8.4103994e+03 1.11e-16 8.19e+01  -1.0 2.09e+01   0.7 1.00e+00 2.56e-01f  1\n",
      "iter    objective    inf_pr   inf_du lg(mu)  ||d||  lg(rg) alpha_du alpha_pr  ls\n",
      "  10 -1.1861835e+04 1.11e-16 9.70e+01  -1.0 4.42e+02   0.2 8.92e-02 2.30e-02f  1\n",
      "  11 -1.2625315e+04 0.00e+00 9.99e+01  -1.0 3.21e+01   0.6 1.00e+00 6.37e-02f  1\n",
      "  12 -7.1537509e+04 2.22e-16 2.33e+02  -1.0 2.39e+04   0.2 1.76e-03 3.79e-03f  1\n",
      "  13 -1.8251779e+05 0.00e+00 3.70e+02  -1.0 9.37e+01   0.6 1.00e+00 1.00e+00f  1\n",
      "  14 -2.4691357e+05 2.22e-16 4.30e+02  -1.0 4.09e+01   1.0 1.00e+00 1.00e+00f  1\n",
      "  15 -7.3578608e+05 0.00e+00 7.41e+02  -1.0 2.11e+02   0.5 1.00e+00 1.00e+00f  1\n",
      "  16 -1.0372602e+06 1.11e-16 8.80e+02  -1.0 9.41e+01   1.0 1.00e+00 1.00e+00f  1\n",
      "  17 -3.7392249e+06 2.22e-16 1.67e+03  -1.0 5.35e+02   0.5 9.96e-01 1.00e+00f  1\n",
      "  18 -5.5271683e+06 2.22e-16 2.03e+03  -1.0 2.44e+02   0.9 1.00e+00 1.00e+00f  1\n",
      "  19 -1.9277412e+07 0.00e+00 3.79e+03  -1.0 1.56e+03   0.4 7.46e-01 7.62e-01f  1\n",
      "iter    objective    inf_pr   inf_du lg(mu)  ||d||  lg(rg) alpha_du alpha_pr  ls\n",
      "  20 -3.0097053e+07 0.00e+00 4.73e+03  -1.0 6.40e+02   0.9 1.00e+00 1.00e+00f  1\n",
      "  21 -1.0521868e+08 2.22e-16 8.84e+03  -1.0 4.79e+03   0.4 5.84e-01 5.82e-01f  1\n",
      "  22 -1.7502107e+08 0.00e+00 1.14e+04  -1.0 1.74e+03   0.8 1.00e+00 1.00e+00f  1\n",
      "  23 -6.2799577e+08 0.00e+00 2.16e+04  -1.0 1.60e+04   0.3 4.31e-01 4.33e-01f  1\n",
      "  24 -1.1245934e+09 1.11e-16 2.89e+04  -1.0 4.95e+03   0.8 1.00e+00 1.00e+00f  1\n",
      "  25 -4.1315431e+09 0.00e+00 5.54e+04  -1.0 6.13e+04   0.3 2.91e-01 2.92e-01f  1\n",
      "  26 -8.0662024e+09 0.00e+00 7.73e+04  -1.0 1.49e+04   0.7 1.00e+00 1.00e+00f  1\n",
      "  27 -3.0492229e+10 0.00e+00 1.50e+05  -1.0 3.04e+05   0.2 1.62e-01 1.63e-01f  1\n",
      "  28 -6.5915297e+10 1.11e-16 2.21e+05  -1.0 4.79e+04   0.7 1.00e+00 1.00e+00f  1\n",
      "  29 -2.5761333e+11 1.11e-16 4.37e+05  -1.0 3.55e+06   0.2 4.11e-02 4.12e-02f  1\n",
      "iter    objective    inf_pr   inf_du lg(mu)  ||d||  lg(rg) alpha_du alpha_pr  ls\n",
      "  30 -6.2861845e+11 0.00e+00 6.83e+05  -1.0 1.66e+05   0.6 1.00e+00 1.00e+00f  1\n",
      "  31 -8.4002752e+11 2.22e-16 7.89e+05  -1.0 7.22e+04   1.0 1.00e+00 1.00e+00f  1\n",
      "  32 -2.3713292e+12 2.22e-16 1.33e+06  -1.0 3.64e+05   0.6 1.00e+00 1.00e+00f  1\n",
      "  33 -3.2961098e+12 2.22e-16 1.56e+06  -1.0 1.61e+05   1.0 1.00e+00 1.00e+00f  1\n",
      "  34 -1.1114147e+13 0.00e+00 2.87e+06  -1.0 8.86e+05   0.5 1.00e+00 1.00e+00f  1\n",
      "  35 -1.6163622e+13 1.11e-16 3.46e+06  -1.0 4.01e+05   0.9 1.00e+00 1.00e+00f  1\n",
      "  36 -5.7335227e+13 0.00e+00 6.52e+06  -1.0 2.46e+06   0.5 8.41e-01 8.41e-01f  1\n",
      "  37 -8.7849298e+13 0.00e+00 8.07e+06  -1.0 1.05e+06   0.9 1.00e+00 1.00e+00f  1\n",
      "  38 -3.0712300e+14 0.00e+00 1.51e+07  -1.0 7.44e+06   0.4 6.39e-01 6.39e-01f  1\n",
      "  39 -4.9985257e+14 0.00e+00 1.92e+07  -1.0 2.82e+06   0.8 1.00e+00 1.00e+00f  1\n",
      "iter    objective    inf_pr   inf_du lg(mu)  ||d||  lg(rg) alpha_du alpha_pr  ls\n",
      "  40 -1.7823015e+15 0.00e+00 3.63e+07  -1.0 2.41e+07   0.4 4.82e-01 4.82e-01f  1\n",
      "  41 -3.1115576e+15 0.00e+00 4.80e+07  -1.0 7.91e+06   0.8 1.00e+00 1.00e+00f  1\n",
      "  42 -1.1350289e+16 4.89e-10 9.17e+07  -1.0 8.78e+07   0.3 3.37e-01 3.37e-01f  1\n",
      "  43 -2.1508349e+16 1.29e-01 1.26e+08  -1.0 2.34e+07   0.7 1.00e+00 1.00e+00f  1\n",
      "  44 -8.0572802e+16 1.03e-01 2.44e+08  -1.0 3.92e+08   0.3 2.04e-01 2.04e-01f  1\n",
      "  45 -1.6813899e+17 4.06e-01 3.53e+08  -1.0 7.36e+07   0.7 1.00e+00 1.00e+00f  1\n",
      "  46 -6.4984979e+17 3.74e-01 6.94e+08  -1.0 2.88e+09   0.2 8.03e-02 8.03e-02f  1\n",
      "  47 -1.5203902e+18 1.37e+00 1.06e+09  -1.0 2.49e+08   0.6 1.00e+00 1.00e+00f  1\n",
      "  48 -2.0079406e+18 5.92e-01 1.22e+09  -1.0 1.07e+08   1.1 1.00e+00 1.00e+00f  1\n",
      "  49 -5.3874396e+18 2.91e+00 2.00e+09  -1.0 5.27e+08   0.6 1.00e+00 1.00e+00f  1\n",
      "iter    objective    inf_pr   inf_du lg(mu)  ||d||  lg(rg) alpha_du alpha_pr  ls\n",
      "  50 -7.3880703e+18 1.28e+00 2.34e+09  -1.0 2.32e+08   1.0 1.00e+00 1.00e+00f  1\n",
      "  51 -2.3407323e+19 6.82e+00 4.17e+09  -1.0 1.24e+09   0.5 1.00e+00 1.00e+00f  1\n",
      "  52 -3.3517603e+19 3.06e+00 4.98e+09  -1.0 5.55e+08   1.0 1.00e+00 1.00e+00f  1\n",
      "  53 -7.7666100e+19 1.11e+01 7.59e+09  -1.0 3.28e+09   0.5 9.21e-01 5.37e-01f  1\n",
      "  54 -1.1688761e+20 6.43e+00 9.31e+09  -1.0 1.17e+09   0.9 6.53e-02 1.00e+00f  1\n",
      "  55 -1.5736016e+20 1.12e+01 1.08e+10  -1.0 7.85e+09   0.4 1.00e+00 1.29e-01f  1\n",
      "  56 -2.5084786e+20 1.06e+01 1.36e+10  -1.0 1.92e+09   0.9 1.00e+00 1.00e+00f  1\n",
      "  57 -2.5789780e+20 1.12e+01 1.38e+10  -1.0 1.53e+10   0.4 6.27e-01 8.41e-03f  1\n",
      "  58 -2.5811591e+20 1.12e+01 1.38e+10  -1.0 2.86e+09   0.8 1.00e+00 1.38e-03f  1\n",
      "  59 -2.5885780e+20 1.13e+01 1.39e+10  -1.0 2.21e+10   0.3 4.21e-01 6.10e-04f  1\n",
      "iter    objective    inf_pr   inf_du lg(mu)  ||d||  lg(rg) alpha_du alpha_pr  ls\n",
      "  60 -4.7684220e+20 1.85e+01 1.88e+10  -1.0 3.35e+09   0.7 1.00e+00 1.00e+00f  1\n",
      "  61 -5.8217984e+20 2.54e+01 2.08e+10  -1.0 4.78e+10   0.3 2.47e-01 2.80e-02f  1\n",
      "  62 -1.1750332e+21 3.27e+01 2.95e+10  -1.0 5.92e+09   0.7 1.00e+00 1.00e+00f  1\n",
      "  63 -2.0467777e+21 6.66e+01 3.90e+10  -1.0 1.59e+11   0.2 1.20e-01 4.02e-02f  1\n",
      "  64 -4.6023880e+21 7.27e+01 5.84e+10  -1.0 1.32e+10   0.6 1.00e+00 1.00e+00f  1\n",
      "  65 -1.1772251e+22 2.04e+02 9.34e+10  -1.0 6.36e+13   0.2 6.16e-04 3.73e-04f  1\n",
      "  66 -3.0114491e+22 2.09e+02 1.49e+11  -1.0 3.79e+10   0.6 1.00e+00 1.00e+00f  1\n",
      "  67 -4.0768219e+22 9.13e+01 1.74e+11  -1.0 1.66e+10   1.0 1.00e+00 1.00e+00f  1\n",
      "  68 -1.2186648e+23 4.74e+02 3.01e+11  -1.0 8.59e+10   0.5 1.00e+00 1.00e+00f  1\n",
      "  69 -1.7193653e+23 2.11e+02 3.57e+11  -1.0 3.82e+10   1.0 1.00e+00 1.00e+00f  1\n",
      "iter    objective    inf_pr   inf_du lg(mu)  ||d||  lg(rg) alpha_du alpha_pr  ls\n",
      "  70 -5.7330423e+23 1.12e+03 6.52e+11  -1.0 2.18e+11   0.5 1.00e+00 9.15e-01f  1\n",
      "  71 -8.4820708e+23 5.27e+02 7.93e+11  -1.0 9.56e+10   0.9 1.00e+00 1.00e+00f  1\n",
      "  72 -2.8751356e+24 2.63e+03 1.46e+12  -1.0 6.15e+11   0.4 7.60e-01 7.35e-01f  1\n",
      "  73 -4.4935378e+24 1.37e+03 1.83e+12  -1.0 2.47e+11   0.9 1.00e+00 1.00e+00f  1\n",
      "  74 -1.5571569e+25 6.46e+03 3.40e+12  -1.0 1.86e+12   0.4 5.83e-01 5.74e-01f  1\n",
      "  75 -2.5933238e+25 3.69e+03 4.38e+12  -1.0 6.69e+11   0.8 1.00e+00 1.00e+00f  1\n",
      "  76 -9.2418804e+25 1.67e+04 8.28e+12  -1.0 6.18e+12   0.3 4.30e-01 4.27e-01f  1\n",
      "  77 -1.6573479e+26 1.05e+04 1.11e+13  -1.0 1.90e+12   0.8 1.00e+00 1.00e+00f  1\n",
      "  78 -6.0755463e+26 4.54e+04 2.12e+13  -1.0 2.38e+13   0.3 2.90e-01 2.89e-01f  1\n",
      "  79 -1.1881297e+27 3.16e+04 2.97e+13  -1.0 5.73e+12   0.7 1.00e+00 1.00e+00f  1\n",
      "iter    objective    inf_pr   inf_du lg(mu)  ||d||  lg(rg) alpha_du alpha_pr  ls\n",
      "  80 -1.8149204e+27 5.65e+04 3.67e+13  -1.0 1.18e+14   0.2 1.61e-01 4.01e-02f  3\n",
      "  81 -3.9310531e+27 6.47e+04 5.40e+13  -1.0 1.17e+13   0.7 1.00e+00 1.00e+00f  1\n",
      "  82 -4.4304418e+27 7.70e+04 5.73e+13  -1.0 9.15e+14   0.2 3.91e-02 2.46e-03f  5\n",
      "  83 -1.0836449e+28 1.00e+00 8.96e+13  -1.0 2.19e+13   0.6 1.00e+00 1.00e+00F  1\n",
      "  84 -1.4490276e+28 5.24e+04 1.04e+14  -1.0 9.50e+12   1.0 1.00e+00 1.00e+00f  1\n",
      "  85 -4.1021427e+28 1.00e+00 1.74e+14  -1.0 4.79e+13   0.6 1.00e+00 1.00e+00F  1\n",
      "  86 -5.7061818e+28 1.00e+00 2.06e+14  -1.0 2.12e+13   1.0 1.00e+00 1.00e+00F  1\n",
      "In iteration 86, 1 Slack too small, adjusting variable bound\n",
      "  87 -1.8859925e+29 1.61e+04 3.74e+14  -1.0 1.17e+14   0.5 1.00e+00 9.74e-01F  1\n",
      "  88 -2.7452161e+29 1.00e+00 4.51e+14  -1.0 5.23e+13   0.9 1.00e+00 1.00e+00F  1\n",
      "  89 -2.8843533e+29 4.22e+04 4.62e+14  -1.0 3.23e+14   0.5 8.36e-01 2.37e-02f  6\n",
      "iter    objective    inf_pr   inf_du lg(mu)  ||d||  lg(rg) alpha_du alpha_pr  ls\n",
      "  90 -4.4238166e+29 1.00e+00 5.73e+14  -1.0 7.47e+13   0.9 1.00e+00 1.00e+00F  1\n",
      "  91 -4.6370892e+29 5.10e+04 5.86e+14  -1.0 5.31e+14   0.4 6.36e-01 1.74e-02f  6\n",
      "  92 -7.5557198e+29 1.00e+00 7.48e+14  -1.0 1.10e+14   0.8 1.00e+00 1.00e+00F  1\n",
      "  93 -7.9210397e+29 6.68e+04 7.66e+14  -1.0 9.41e+14   0.4 4.78e-01 1.29e-02f  6\n",
      "  94 -1.3847214e+30 1.00e+00 1.01e+15  -1.0 1.67e+14   0.8 1.00e+00 1.00e+00F  1\n",
      "  95 -1.4193465e+30 4.71e+04 1.03e+15  -1.0 1.87e+15   0.3 3.35e-01 4.57e-03f  7\n",
      "In iteration 95, 1 Slack too small, adjusting variable bound\n",
      "  96 -2.6938448e+30 1.00e+00 1.41e+15  -1.0 2.62e+14   0.7 1.00e+00 1.00e+00F  1\n",
      "In iteration 96, 1 Slack too small, adjusting variable bound\n",
      "  97 -2.7688328e+30 7.30e+04 1.43e+15  -1.0 4.43e+15   0.3 2.02e-01 2.99e-03f  7\n",
      "In iteration 97, 3 Slacks too small, adjusting variable bounds\n",
      "  98 -5.7887428e+30 1.00e+00 2.07e+15  -1.0 4.33e+14   0.7 1.00e+00 1.00e+00F  1\n",
      "In iteration 98, 3 Slacks too small, adjusting variable bounds\n",
      "  99 -5.8773357e+30 5.90e+04 2.09e+15  -1.0 1.74e+16   0.2 7.81e-02 6.16e-04f  8\n",
      "In iteration 99, 3 Slacks too small, adjusting variable bounds\n",
      "iter    objective    inf_pr   inf_du lg(mu)  ||d||  lg(rg) alpha_du alpha_pr  ls\n",
      " 100 -1.3781124e+31 1.00e+00 3.20e+15  -1.0 7.51e+14   0.6 1.00e+00 1.00e+00F  1\n",
      "In iteration 100, 4 Slacks too small, adjusting variable bounds\n",
      " 101 -1.8211737e+31 1.00e+00 3.67e+15  -1.0 3.24e+14   1.1 1.00e+00 1.00e+00F  1\n",
      "In iteration 101, 4 Slacks too small, adjusting variable bounds\n",
      " 102 -4.8993907e+31 1.00e+00 6.03e+15  -1.0 1.59e+15   0.6 1.00e+00 1.00e+00F  1\n",
      "In iteration 102, 5 Slacks too small, adjusting variable bounds\n",
      " 103 -6.7235910e+31 1.00e+00 7.06e+15  -1.0 7.00e+14   1.0 1.00e+00 1.00e+00F  1\n",
      "In iteration 103, 15 Slacks too small, adjusting variable bounds\n",
      " 104 -2.1371711e+32 1.00e+00 1.26e+16  -1.0 3.74e+15   0.5 1.00e+00 1.00e+00F  1\n",
      "In iteration 104, 15 Slacks too small, adjusting variable bounds\n",
      " 105 -3.0627925e+32 1.00e+00 1.51e+16  -1.0 1.68e+15   1.0 1.00e+00 1.00e+00F  1\n",
      "In iteration 105, 5 Slacks too small, adjusting variable bounds\n",
      " 106 -3.0703714e+32 6.96e+04 1.51e+16  -1.0 9.97e+15   0.5 9.17e-01 1.27e-03f 10\n",
      "In iteration 106, 15 Slacks too small, adjusting variable bounds\n",
      " 107 -4.6252985e+32 1.00e+00 1.85e+16  -1.0 2.32e+15   0.9 1.00e+00 1.00e+00F  1\n",
      "In iteration 107, 15 Slacks too small, adjusting variable bounds\n",
      " 108 -4.6312353e+32 4.44e+04 1.85e+16  -1.0 1.57e+16   0.4 6.90e-01 5.13e-04f 11\n",
      "In iteration 108, 15 Slacks too small, adjusting variable bounds\n",
      " 109 -7.3907640e+32 1.00e+00 2.34e+16  -1.0 3.31e+15   0.9 1.00e+00 1.00e+00F  1\n",
      "In iteration 109, 15 Slacks too small, adjusting variable bounds\n",
      "iter    objective    inf_pr   inf_du lg(mu)  ||d||  lg(rg) alpha_du alpha_pr  ls\n",
      " 110 -7.4007893e+32 5.93e+04 2.34e+16  -1.0 2.65e+16   0.4 5.28e-01 4.06e-04f 11\n",
      "In iteration 110, 15 Slacks too small, adjusting variable bounds\n",
      " 111 -1.2628031e+33 1.00e+00 3.06e+16  -1.0 4.86e+15   0.8 1.00e+00 1.00e+00F  1\n",
      "In iteration 111, 15 Slacks too small, adjusting variable bounds\n",
      " 112 -1.2637224e+33 4.16e+04 3.06e+16  -1.0 4.92e+16   0.3 3.80e-01 1.53e-04f 12\n",
      "In iteration 112, 15 Slacks too small, adjusting variable bounds\n",
      " 113 -2.3313848e+33 1.00e+00 4.16e+16  -1.0 7.43e+15   0.7 1.00e+00 1.00e+00F  1\n",
      "In iteration 113, 15 Slacks too small, adjusting variable bounds\n",
      " 114 -2.3332315e+33 6.15e+04 4.16e+16  -1.0 1.07e+17   0.3 2.44e-01 1.04e-04f 12\n",
      "In iteration 114, 15 Slacks too small, adjusting variable bounds\n",
      " 115 -4.7175329e+33 2.00e+00 5.91e+16  -1.0 1.19e+16   0.7 1.00e+00 1.00e+00F  1\n",
      "In iteration 115, 15 Slacks too small, adjusting variable bounds\n",
      " 116 -4.7195890e+33 4.82e+04 5.91e+16  -1.0 3.25e+17   0.2 1.18e-01 2.69e-05f 13\n",
      "In iteration 116, 15 Slacks too small, adjusting variable bounds\n",
      " 117 -1.0634674e+34 2.00e+00 8.88e+16  -1.0 2.01e+16   0.6 1.00e+00 1.00e+00F  1\n",
      "In iteration 117, 15 Slacks too small, adjusting variable bounds\n",
      " 118 -1.0637432e+34 4.30e+04 8.88e+16  -1.0 8.61e+15   1.1 1.00e+00 9.06e-04f 11\n",
      "In iteration 118, 15 Slacks too small, adjusting variable bounds\n",
      " 119 -1.0639750e+34 7.92e+04 8.88e+16  -1.0 3.62e+16   0.6 1.00e+00 1.81e-04f 13\n",
      "In iteration 119, 15 Slacks too small, adjusting variable bounds\n",
      "iter    objective    inf_pr   inf_du lg(mu)  ||d||  lg(rg) alpha_du alpha_pr  ls\n",
      " 120 -1.4413670e+34 3.00e+00 1.03e+17  -1.0 9.86e+15   1.0 1.00e+00 1.00e+00F  1\n",
      "In iteration 120, 15 Slacks too small, adjusting variable bounds\n",
      " 121 -1.4416729e+34 4.10e+04 1.03e+17  -1.0 5.12e+16   0.5 1.00e+00 1.45e-04f 13\n",
      "In iteration 121, 15 Slacks too small, adjusting variable bounds\n",
      " 122 -2.0355964e+34 5.00e+00 1.23e+17  -1.0 1.32e+16   1.0 1.00e+00 1.00e+00F  1\n",
      "In iteration 122, 15 Slacks too small, adjusting variable bounds\n",
      " 123 -2.0360781e+34 5.43e+04 1.23e+17  -1.0 7.54e+16   0.5 9.63e-01 1.31e-04f 13\n",
      "In iteration 123, 15 Slacks too small, adjusting variable bounds\n",
      " 124 -3.0151164e+34 2.00e+00 1.49e+17  -1.0 1.81e+16   0.9 1.00e+00 1.00e+00F  1\n",
      "In iteration 124, 15 Slacks too small, adjusting variable bounds\n",
      " 125 -3.0159126e+34 7.38e+04 1.50e+17  -1.0 1.16e+17   0.4 7.47e-01 1.15e-04f 13\n",
      "In iteration 125, 15 Slacks too small, adjusting variable bounds\n",
      " 126 -4.7184910e+34 3.00e+00 1.87e+17  -1.0 2.54e+16   0.9 1.00e+00 1.00e+00F  1\n",
      "In iteration 126, 15 Slacks too small, adjusting variable bounds\n",
      " 127 -4.7191871e+34 5.16e+04 1.87e+17  -1.0 1.91e+17   0.4 5.80e-01 4.89e-05f 14\n",
      "In iteration 127, 15 Slacks too small, adjusting variable bounds\n",
      " 128 -7.8689938e+34 1.30e+01 2.42e+17  -1.0 3.69e+16   0.8 1.00e+00 1.00e+00F  1\n",
      "In iteration 128, 15 Slacks too small, adjusting variable bounds\n",
      " 129 -7.8702928e+34 7.45e+04 2.42e+17  -1.0 3.43e+17   0.3 4.27e-01 3.94e-05f 14\n",
      "In iteration 129, 15 Slacks too small, adjusting variable bounds\n",
      "iter    objective    inf_pr   inf_du lg(mu)  ||d||  lg(rg) alpha_du alpha_pr  ls\n",
      " 130 -1.4133841e+35 3.00e+00 3.24e+17  -1.0 5.57e+16   0.8 1.00e+00 1.00e+00F  1\n",
      "In iteration 130, 15 Slacks too small, adjusting variable bounds\n",
      " 131 -1.4135148e+35 5.60e+04 3.24e+17  -1.0 7.00e+17   0.3 2.88e-01 1.45e-05f 15\n",
      "In iteration 131, 15 Slacks too small, adjusting variable bounds\n",
      " 132 -2.7688699e+35 2.90e+01 4.53e+17  -1.0 8.76e+16   0.7 1.00e+00 1.00e+00F  1\n",
      "In iteration 132, 15 Slacks too small, adjusting variable bounds\n",
      " 133 -2.7690135e+35 4.40e+04 4.53e+17  -1.0 1.83e+18   0.2 1.58e-01 4.34e-06f 16\n",
      "In iteration 133, 15 Slacks too small, adjusting variable bounds\n",
      " 134 -6.0094301e+35 1.10e+01 6.67e+17  -1.0 1.45e+17   0.7 1.00e+00 1.00e+00F  1\n",
      "In iteration 134, 15 Slacks too small, adjusting variable bounds\n",
      " 135 -6.0097802e+35 7.26e+04 6.67e+17  -1.0 1.20e+19   0.2 3.70e-02 1.10e-06f 16\n",
      "In iteration 135, 15 Slacks too small, adjusting variable bounds\n",
      " 136 -1.4734081e+36 1.10e+01 1.05e+18  -1.0 2.56e+17   0.6 1.00e+00 1.00e+00F  1\n",
      "In iteration 136, 15 Slacks too small, adjusting variable bounds\n",
      " 137 -1.4734566e+36 6.43e+04 1.05e+18  -1.0 1.11e+17   1.0 1.00e+00 1.05e-04f 14\n",
      "In iteration 137, 15 Slacks too small, adjusting variable bounds\n",
      " 138 -1.4734671e+36 7.82e+04 1.05e+18  -1.0 4.85e+17   0.6 1.00e+00 5.21e-06f 18\n",
      "In iteration 138, 15 Slacks too small, adjusting variable bounds\n",
      " 139 -2.0511674e+36 6.10e+01 1.23e+18  -1.0 1.27e+17   1.0 1.00e+00 1.00e+00F  1\n",
      "In iteration 139, 15 Slacks too small, adjusting variable bounds\n",
      "iter    objective    inf_pr   inf_du lg(mu)  ||d||  lg(rg) alpha_du alpha_pr  ls\n",
      " 140 -2.0512243e+36 6.39e+04 1.23e+18  -1.0 7.04e+17   0.5 1.00e+00 1.64e-05f 16\n",
      "In iteration 140, 15 Slacks too small, adjusting variable bounds\n",
      " 141 -2.9883033e+36 3.10e+01 1.49e+18  -1.0 1.73e+17   0.9 1.00e+00 1.00e+00F  1\n",
      "In iteration 141, 15 Slacks too small, adjusting variable bounds\n",
      " 142 -2.9883498e+36 4.33e+04 1.49e+18  -1.0 1.07e+18   0.5 8.15e-01 7.35e-06f 17\n",
      "In iteration 142, 15 Slacks too small, adjusting variable bounds\n",
      " 143 -4.5878913e+36 3.10e+01 1.84e+18  -1.0 2.41e+17   0.9 1.00e+00 1.00e+00F  1\n",
      "In iteration 143, 15 Slacks too small, adjusting variable bounds\n",
      " 144 -4.5879717e+36 6.04e+04 1.84e+18  -1.0 1.72e+18   0.4 6.33e-01 6.37e-06f 17\n",
      "In iteration 144, 15 Slacks too small, adjusting variable bounds\n",
      " 145 -7.4843356e+36 3.10e+01 2.36e+18  -1.0 3.46e+17   0.8 1.00e+00 1.00e+00F  1\n",
      "In iteration 145, 15 Slacks too small, adjusting variable bounds\n",
      " 146 -7.4844093e+36 4.34e+04 2.36e+18  -1.0 2.98e+18   0.4 4.76e-01 2.64e-06f 18\n",
      "In iteration 146, 15 Slacks too small, adjusting variable bounds\n",
      " 147 -1.3101556e+37 6.20e+01 3.12e+18  -1.0 5.16e+17   0.8 1.00e+00 1.00e+00F  1\n",
      "In iteration 147, 15 Slacks too small, adjusting variable bounds\n",
      " 148 -1.3101701e+37 6.45e+04 3.12e+18  -1.0 5.78e+18   0.3 3.32e-01 2.02e-06f 18\n",
      "In iteration 148, 15 Slacks too small, adjusting variable bounds\n",
      " 149 -2.4905646e+37 6.20e+01 4.30e+18  -1.0 8.00e+17   0.7 1.00e+00 1.00e+00F  1\n",
      "In iteration 149, 15 Slacks too small, adjusting variable bounds\n",
      "iter    objective    inf_pr   inf_du lg(mu)  ||d||  lg(rg) alpha_du alpha_pr  ls\n",
      " 150 -2.4905801e+37 4.99e+04 4.30e+18  -1.0 1.36e+19   0.3 2.00e-01 6.64e-07f 19\n",
      "In iteration 150, 15 Slacks too small, adjusting variable bounds\n",
      " 151 -5.2167261e+37 5.09e+02 6.22e+18  -1.0 1.30e+18   0.7 1.00e+00 1.00e+00F  1\n",
      "In iteration 151, 15 Slacks too small, adjusting variable bounds\n",
      " 152 -5.2167443e+37 4.10e+04 6.22e+18  -1.0 5.36e+19   0.2 7.60e-02 1.38e-07f 20\n",
      "In iteration 152, 15 Slacks too small, adjusting variable bounds\n",
      " 153 -1.2259389e+38 1.00e+00 9.53e+18  -1.0 2.25e+18   0.6 1.00e+00 1.00e+00F  1\n",
      "In iteration 153, 15 Slacks too small, adjusting variable bounds\n",
      " 154 -1.2259437e+38 6.96e+04 9.53e+18  -1.0 9.68e+17   1.1 1.00e+00 1.31e-05f 17\n",
      "In iteration 154, 15 Slacks too small, adjusting variable bounds\n",
      " 155 -1.2259442e+38 7.73e+04 9.53e+18  -1.0 4.15e+18   0.6 1.00e+00 3.31e-07f 22\n",
      "In iteration 155, 15 Slacks too small, adjusting variable bounds\n",
      " 156 -1.6836092e+38 1.02e+03 1.12e+19  -1.0 1.11e+18   1.0 1.00e+00 1.00e+00F  1\n",
      "In iteration 156, 15 Slacks too small, adjusting variable bounds\n",
      " 157 -1.6836148e+38 7.07e+04 1.12e+19  -1.0 5.95e+18   0.5 1.00e+00 2.12e-06f 19\n",
      "In iteration 157, 15 Slacks too small, adjusting variable bounds\n",
      " 158 -2.4147879e+38 2.51e+02 1.34e+19  -1.0 1.50e+18   1.0 1.00e+00 1.00e+00F  1\n",
      "In iteration 158, 15 Slacks too small, adjusting variable bounds\n",
      " 159 -2.4147925e+38 4.71e+04 1.34e+19  -1.0 8.89e+18   0.5 8.85e-01 9.54e-07f 20\n",
      "In iteration 159, 15 Slacks too small, adjusting variable bounds\n",
      "iter    objective    inf_pr   inf_du lg(mu)  ||d||  lg(rg) alpha_du alpha_pr  ls\n",
      " 160 -3.6411751e+38 1.02e+03 1.64e+19  -1.0 2.07e+18   0.9 1.00e+00 1.00e+00F  1\n",
      "In iteration 160, 15 Slacks too small, adjusting variable bounds\n",
      " 161 -3.6411828e+38 6.55e+04 1.64e+19  -1.0 1.40e+19   0.4 6.87e-01 8.37e-07f 20\n",
      "In iteration 161, 15 Slacks too small, adjusting variable bounds\n",
      " 162 -5.8171880e+38 2.54e+02 2.08e+19  -1.0 2.94e+18   0.8 1.00e+00 1.00e+00F  1\n",
      "In iteration 162, 15 Slacks too small, adjusting variable bounds\n",
      " 163 -5.8171949e+38 4.51e+04 2.08e+19  -1.0 2.36e+19   0.4 5.26e-01 3.53e-07f 21\n",
      "In iteration 163, 15 Slacks too small, adjusting variable bounds\n",
      " 164 -9.9386511e+38 1.00e+00 2.71e+19  -1.0 4.32e+18   0.8 1.00e+00 1.00e+00F  1\n",
      "In iteration 164, 15 Slacks too small, adjusting variable bounds\n",
      " 165 -9.9386643e+38 6.55e+04 2.71e+19  -1.0 4.39e+19   0.3 3.78e-01 2.79e-07f 21\n",
      "In iteration 165, 15 Slacks too small, adjusting variable bounds\n",
      " 166 -1.8362889e+39 2.04e+03 3.69e+19  -1.0 6.61e+18   0.7 1.00e+00 1.00e+00F  1\n",
      "In iteration 166, 15 Slacks too small, adjusting variable bounds\n",
      " 167 -1.8362903e+39 5.32e+04 3.69e+19  -1.0 9.57e+19   0.3 2.42e-01 9.78e-08f 22\n",
      "In iteration 167, 15 Slacks too small, adjusting variable bounds\n",
      " 168 -3.7193312e+39 1.00e+00 5.25e+19  -1.0 1.06e+19   0.7 1.00e+00 1.00e+00F  1\n",
      "In iteration 168, 15 Slacks too small, adjusting variable bounds\n",
      " 169 -3.7193327e+39 4.10e+04 5.25e+19  -1.0 2.94e+20   0.2 1.16e-01 2.55e-08f 23\n",
      "In iteration 169, 15 Slacks too small, adjusting variable bounds\n",
      "iter    objective    inf_pr   inf_du lg(mu)  ||d||  lg(rg) alpha_du alpha_pr  ls\n",
      " 170 -8.3983759e+39 1.00e+00 7.89e+19  -1.0 1.79e+19   0.6 1.00e+00 1.00e+00F  1\n",
      "In iteration 170, 15 Slacks too small, adjusting variable bounds\n",
      " 171 -8.3983799e+39 6.96e+04 7.89e+19  -1.0 7.67e+18   1.1 1.00e+00 1.65e-06f 20\n",
      "In iteration 171, 5 Slacks too small, adjusting variable bounds\n",
      " 172 -8.3983801e+39 7.37e+04 7.89e+19  -1.0 3.23e+19   0.6 1.00e+00 2.10e-08f 26\n",
      "In iteration 172, 15 Slacks too small, adjusting variable bounds\n",
      " 173 -1.1385086e+40 1.00e+00 9.19e+19  -1.0 8.78e+18   1.0 1.00e+00 1.00e+00F  1\n",
      "In iteration 173, 15 Slacks too small, adjusting variable bounds\n",
      " 174 -1.1385091e+40 7.37e+04 9.19e+19  -1.0 4.57e+19   0.5 1.00e+00 2.72e-07f 22\n",
      "In iteration 174, 15 Slacks too small, adjusting variable bounds\n",
      " 175 -1.6088047e+40 8.19e+03 1.09e+20  -1.0 1.17e+19   1.0 1.00e+00 1.00e+00F  1\n",
      "In iteration 175, 15 Slacks too small, adjusting variable bounds\n",
      " 176 -1.6088049e+40 3.28e+04 1.09e+20  -1.0 6.73e+19   0.5 9.59e-01 6.18e-08f 24\n",
      "In iteration 176, 15 Slacks too small, adjusting variable bounds\n",
      " 177 -2.3845526e+40 8.19e+03 1.33e+20  -1.0 1.61e+19   0.9 1.00e+00 1.00e+00F  1\n",
      "In iteration 177, 15 Slacks too small, adjusting variable bounds\n",
      " 178 -2.3845532e+40 7.37e+04 1.33e+20  -1.0 1.04e+20   0.4 7.44e-01 1.10e-07f 23\n",
      "In iteration 178, 15 Slacks too small, adjusting variable bounds\n",
      " 179 -3.7346242e+40 2.05e+03 1.66e+20  -1.0 2.27e+19   0.9 1.00e+00 1.00e+00F  1\n",
      "\n",
      "Number of Iterations....: 179\n",
      "\n",
      "                                   (scaled)                 (unscaled)\n",
      "Objective...............:  -3.7346241807078765e+40   -3.7346241807078765e+40\n",
      "Dual infeasibility......:   1.6637819295072761e+20    1.6637819295072761e+20\n",
      "Constraint violation....:   2.0469999999900001e+03    2.0469999999900001e+03\n",
      "Complementarity.........:   2.4559961800157698e+03    2.4559961800157698e+03\n",
      "Overall NLP error.......:   2.0469999999900001e+03    1.6637819295072761e+20\n",
      "\n",
      "\n",
      "Number of objective function evaluations             = 180\n",
      "Number of objective gradient evaluations             = 180\n",
      "Number of equality constraint evaluations            = 990\n",
      "Number of inequality constraint evaluations          = 990\n",
      "Number of equality constraint Jacobian evaluations   = 180\n",
      "Number of inequality constraint Jacobian evaluations = 180\n",
      "Number of Lagrangian Hessian evaluations             = 179\n",
      "Total CPU secs in IPOPT (w/o function evaluations)   =      0.431\n",
      "Total CPU secs in NLP function evaluations           =      0.454\n",
      "\n",
      "EXIT: Iterates diverging; problem might be unbounded.\n"
     ]
    },
    {
     "data": {
      "text/plain": [
       ":Diverging_Iterates"
      ]
     },
     "execution_count": 11,
     "metadata": {},
     "output_type": "execute_result"
    }
   ],
   "source": [
    "solve(m;solver=\"Ipopt\")"
   ]
  },
  {
   "cell_type": "code",
   "execution_count": null,
   "metadata": {},
   "outputs": [],
   "source": []
  }
 ],
 "metadata": {
  "@webio": {
   "lastCommId": null,
   "lastKernelId": null
  },
  "kernelspec": {
   "display_name": "Julia 1.1.0",
   "language": "julia",
   "name": "julia-1.1"
  },
  "language_info": {
   "file_extension": ".jl",
   "mimetype": "application/julia",
   "name": "julia",
   "version": "1.1.0"
  }
 },
 "nbformat": 4,
 "nbformat_minor": 2
}
