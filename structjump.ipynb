{
 "cells": [
  {
   "cell_type": "markdown",
   "metadata": {},
   "source": [
    "Activate the environment that has been [instantiated](README.md)."
   ]
  },
  {
   "cell_type": "code",
   "execution_count": 17,
   "metadata": {},
   "outputs": [
    {
     "name": "stdout",
     "output_type": "stream",
     "text": [
      "\u001b[32m\u001b[1m  Updating\u001b[22m\u001b[39m registry at `~/.julia/registries/General`\n",
      "\u001b[32m\u001b[1m  Updating\u001b[22m\u001b[39m git-repo `https://github.com/JuliaRegistries/General.git`\n",
      "\u001b[2K\u001b[?25h[1mFetching:\u001b[22m\u001b[39m [========================================>]  100.0 %.0 %"
     ]
    }
   ],
   "source": [
    "using Pkg\n",
    "pkg\"activate .\"\n",
    "pkg\"instantiate\""
   ]
  },
  {
   "cell_type": "markdown",
   "metadata": {},
   "source": [
    "Load StructJuMP"
   ]
  },
  {
   "cell_type": "code",
   "execution_count": 2,
   "metadata": {},
   "outputs": [],
   "source": [
    "using StructJuMP"
   ]
  },
  {
   "cell_type": "markdown",
   "metadata": {},
   "source": [
    "We now create a structured model `m`. At this point the number of second-stage submodels is set, referring to them as *scenarios*."
   ]
  },
  {
   "cell_type": "code",
   "execution_count": 3,
   "metadata": {},
   "outputs": [
    {
     "data": {
      "text/latex": [
       "$$ \\begin{alignat*}{1}\\min\\quad & 0\\\\\n",
       "\\text{Subject to} \\quad\\end{alignat*}\n",
       " $$"
      ],
      "text/plain": [
       "Feasibility problem with:\n",
       " * 0 linear constraints\n",
       " * 0 variables\n",
       "Solver is default solver"
      ]
     },
     "execution_count": 3,
     "metadata": {},
     "output_type": "execute_result"
    }
   ],
   "source": [
    "num_scenarios=2\n",
    "m = StructuredModel(num_scenarios=num_scenarios)"
   ]
  },
  {
   "cell_type": "markdown",
   "metadata": {},
   "source": [
    "The model is printed and we see it is empty. Like the underlying modeling framework [JuMP](https://github.com/JuliaOpt/JuMP.jl), there are 3 basic components of a model object: `@variable`, `@constraint`, and `@objective`. In addition, nonlinear constraints and objectives are set via `@NLconstraint` and `@NLobjective`."
   ]
  },
  {
   "cell_type": "code",
   "execution_count": 4,
   "metadata": {},
   "outputs": [
    {
     "data": {
      "text/latex": [
       "$$ \\begin{alignat*}{1}\\min\\quad & x_{1} * y_{1} + x_{2} * y_{2} + x_{3} * y_{3}\\\\\n",
       "\\text{Subject to} \\quad & x_{1} * y_{1} - 1.0 \\geq 0\\\\\n",
       " & x_{2} * y_{2} - 2.0 \\geq 0\\\\\n",
       " & x_{3} * y_{3} - 3.0 \\geq 0\\\\\n",
       " & x_{i} \\geq 0 \\quad\\forall i \\in \\{1,2,3\\}\\\\\n",
       " & y_{i} \\geq 0 \\quad\\forall i \\in \\{1,2,3\\}\\\\\n",
       "\\end{alignat*}\n",
       " $$"
      ],
      "text/plain": [
       "Minimization problem with:\n",
       " * 0 linear constraints\n",
       " * 3 nonlinear constraints\n",
       " * 6 variables\n",
       "Solver is default solver"
      ]
     },
     "execution_count": 4,
     "metadata": {},
     "output_type": "execute_result"
    }
   ],
   "source": [
    "n=3\n",
    "initvec=zeros(n)\n",
    "@variable(m, x[i=1:n] >= 0, start=initvec[i])\n",
    "@variable(m, y[i=1:n] >= 0, start=initvec[i])\n",
    "for i in 1:n\n",
    "    @NLconstraint(m, x[i] * y[i] >= i)\n",
    "end\n",
    "@NLobjective(m, :Min, sum(x[i]*y[i] for i=1:n))\n",
    "m"
   ]
  },
  {
   "cell_type": "markdown",
   "metadata": {},
   "source": [
    "The above defines the first stage described by `m`. Notice how we can print the model. We now want to create the 2 second-stage models and connect them to the first stage `m`. We create the scenarios using a `for` loop. `StructuredModel` creates a submodel `mk` attached to the parent `m` and with a unique identifier `i`."
   ]
  },
  {
   "cell_type": "code",
   "execution_count": 5,
   "metadata": {},
   "outputs": [],
   "source": [
    "for k in 1:num_scenarios\n",
    "    mk = StructuredModel(parent=m,id=k)\n",
    "    @variable(mk, w[i=1:n] >= 0, start=initvec[i])\n",
    "    @constraint(mk, sum(i*w[i] for i=1:n) == k)\n",
    "    @NLconstraint(mk, sum(x[i] - w[i] for i=1:n) <= 0)\n",
    "    @NLobjective(mk, :Min, sum(w[i]*w[i] for i=1:n))\n",
    "end"
   ]
  },
  {
   "cell_type": "markdown",
   "metadata": {},
   "source": [
    "Let's print again the entire model."
   ]
  },
  {
   "cell_type": "code",
   "execution_count": 6,
   "metadata": {
    "scrolled": false
   },
   "outputs": [
    {
     "name": "stdout",
     "output_type": "stream",
     "text": [
      "Min x[1] * y[1] + x[2] * y[2] + x[3] * y[3]\n",
      "Subject to\n",
      " x[1] * y[1] - 1.0 ≥ 0\n",
      " x[2] * y[2] - 2.0 ≥ 0\n",
      " x[3] * y[3] - 3.0 ≥ 0\n",
      " x[i] ≥ 0 ∀ i ∈ {1,2,3}\n",
      " y[i] ≥ 0 ∀ i ∈ {1,2,3}\n",
      "*** children ***\n",
      "Child ID 2:\n",
      "Min w[1] * w[1] + w[2] * w[2] + w[3] * w[3]\n",
      "Subject to\n",
      " w[1] + 2 w[2] + 3 w[3] = 2\n",
      " ((x[1] - w[1]) + (x[2] - w[2]) + (x[3] - w[3])) - 0.0 ≤ 0\n",
      " w[i] ≥ 0 ∀ i ∈ {1,2,3}\n",
      " x[1] ≥ 0\n",
      " x[2] ≥ 0\n",
      " x[3] ≥ 0\n",
      "*** children ***\n",
      "\n",
      "Child ID 1:\n",
      "Min w[1] * w[1] + w[2] * w[2] + w[3] * w[3]\n",
      "Subject to\n",
      " w[1] + 2 w[2] + 3 w[3] = 1\n",
      " ((x[1] - w[1]) + (x[2] - w[2]) + (x[3] - w[3])) - 0.0 ≤ 0\n",
      " w[i] ≥ 0 ∀ i ∈ {1,2,3}\n",
      " x[1] ≥ 0\n",
      " x[2] ≥ 0\n",
      " x[3] ≥ 0\n",
      "*** children ***\n",
      "\n"
     ]
    }
   ],
   "source": [
    "print(m)"
   ]
  },
  {
   "cell_type": "markdown",
   "metadata": {},
   "source": [
    "We have now created a model. In order to solve it we need to load a solver interface. `StructJuMP` was initially designed as a generic package to run with a variety of solvers. Currently, we support `Ipopt` and the large-scale interior point solver [PIPS](https://github.com/Argonne-National-Laboratory/PIPS). These are loaded via the package `StructJuMPSolverInterface`."
   ]
  },
  {
   "cell_type": "code",
   "execution_count": 7,
   "metadata": {},
   "outputs": [],
   "source": [
    "using StructJuMPSolverInterface"
   ]
  },
  {
   "cell_type": "markdown",
   "metadata": {},
   "source": [
    "In a distributed parallel setting using `MPI`, we can print the local children."
   ]
  },
  {
   "cell_type": "code",
   "execution_count": 8,
   "metadata": {},
   "outputs": [
    {
     "data": {
      "text/plain": [
       "2-element Array{Int64,1}:\n",
       " 1\n",
       " 2"
      ]
     },
     "execution_count": 8,
     "metadata": {},
     "output_type": "execute_result"
    }
   ],
   "source": [
    "getLocalChildrenIds(m)"
   ]
  },
  {
   "cell_type": "markdown",
   "metadata": {},
   "source": [
    "Here we see both children as we run sequentially. We can access and print the local children at any time."
   ]
  },
  {
   "cell_type": "code",
   "execution_count": 9,
   "metadata": {},
   "outputs": [
    {
     "name": "stdout",
     "output_type": "stream",
     "text": [
      "Min w[1] * w[1] + w[2] * w[2] + w[3] * w[3]\n",
      "Subject to\n",
      " w[1] + 2 w[2] + 3 w[3] = 1\n",
      " ((x[1] - w[1]) + (x[2] - w[2]) + (x[3] - w[3])) - 0.0 ≤ 0\n",
      " w[i] ≥ 0 ∀ i ∈ {1,2,3}\n",
      " x[1] ≥ 0\n",
      " x[2] ≥ 0\n",
      " x[3] ≥ 0\n",
      "*** children ***\n",
      "Min w[1] * w[1] + w[2] * w[2] + w[3] * w[3]\n",
      "Subject to\n",
      " w[1] + 2 w[2] + 3 w[3] = 2\n",
      " ((x[1] - w[1]) + (x[2] - w[2]) + (x[3] - w[3])) - 0.0 ≤ 0\n",
      " w[i] ≥ 0 ∀ i ∈ {1,2,3}\n",
      " x[1] ≥ 0\n",
      " x[2] ≥ 0\n",
      " x[3] ≥ 0\n",
      "*** children ***\n"
     ]
    }
   ],
   "source": [
    "for i in getLocalChildrenIds(m)\n",
    "    print(getchildren(m)[i])\n",
    "end"
   ]
  },
  {
   "cell_type": "code",
   "execution_count": 10,
   "metadata": {},
   "outputs": [],
   "source": [
    "using Ipopt"
   ]
  },
  {
   "cell_type": "code",
   "execution_count": 11,
   "metadata": {
    "scrolled": false
   },
   "outputs": [
    {
     "name": "stdout",
     "output_type": "stream",
     "text": [
      "\n",
      "******************************************************************************\n",
      "This program contains Ipopt, a library for large-scale nonlinear optimization.\n",
      " Ipopt is released as open source code under the Eclipse Public License (EPL).\n",
      "         For more information visit http://projects.coin-or.org/Ipopt\n",
      "******************************************************************************\n",
      "\n",
      "This is Ipopt version 3.12.10, running with linear solver mumps.\n",
      "NOTE: Other linear solvers might be more efficient (see Ipopt documentation).\n",
      "\n",
      "Number of nonzeros in equality constraint Jacobian...:        6\n",
      "Number of nonzeros in inequality constraint Jacobian.:       18\n",
      "Number of nonzeros in Lagrangian Hessian.............:       24\n",
      "\n",
      "Total number of variables............................:       12\n",
      "                     variables with only lower bounds:       12\n",
      "                variables with lower and upper bounds:        0\n",
      "                     variables with only upper bounds:        0\n",
      "Total number of equality constraints.................:        2\n",
      "Total number of inequality constraints...............:        5\n",
      "        inequality constraints with only lower bounds:        3\n",
      "   inequality constraints with lower and upper bounds:        0\n",
      "        inequality constraints with only upper bounds:        2\n",
      "\n",
      "iter    objective    inf_pr   inf_du lg(mu)  ||d||  lg(rg) alpha_du alpha_pr  ls\n",
      "   0  8.9999820e-04 3.00e+00 1.00e+00  -1.0 0.00e+00    -  0.00e+00 0.00e+00   0\n",
      "   1  1.0187909e-03 3.00e+00 7.82e+00  -1.0 3.01e+00    -  2.85e-02 3.29e-03h  1\n",
      "   2  1.0416385e-03 3.00e+00 7.97e+01  -1.0 3.02e+01    -  3.43e-04 4.11e-05h  1\n",
      "   3  7.3967548e-03 2.99e+00 9.65e+01  -1.0 2.14e+02    -  5.70e-05 6.79e-04h  1\n",
      "   4  9.4338560e-03 2.99e+00 9.63e+01  -1.0 9.67e+01    -  1.07e-03 9.13e-04h  1\n",
      "   5  9.4825966e-03 2.99e+00 9.60e+01  -1.0 4.94e+01   2.0 6.70e-06 1.25e-05h  1\n",
      "   6  9.4828484e-03 2.99e+00 3.11e+02  -1.0 1.74e+02   1.5 1.26e-04 3.60e-08h  9\n",
      "   7  1.0585212e-02 2.99e+00 2.38e+02  -1.0 2.34e+02   1.0 5.76e-06 7.43e-05h  1\n",
      "   8  9.0141687e-03 2.99e+00 2.36e+02  -1.0 6.64e+02    -  2.20e-04 2.16e-04f  2\n",
      "   9  9.0766601e-03 2.99e+00 2.33e+02  -1.0 6.22e+01   0.6 6.49e-04 1.07e-05h  1\n",
      "iter    objective    inf_pr   inf_du lg(mu)  ||d||  lg(rg) alpha_du alpha_pr  ls\n",
      "  10  1.9838253e-02 2.99e+00 2.40e+02  -1.0 7.15e+01   0.1 5.45e-04 1.35e-03f  1\n",
      "  11  3.9251873e-02 2.98e+00 1.71e+02  -1.0 1.18e+02    -  7.76e-02 2.68e-03h  1\n",
      "  12  4.2213173e-02 2.98e+00 2.25e+03  -1.0 1.21e+02    -  7.08e-03 5.64e-04h  1\n",
      "  13  4.2274758e-02 2.98e+00 6.38e+02  -1.0 6.53e+02    -  3.50e-06 1.05e-05h  1\n",
      "  14  9.4609868e-02 2.99e+00 2.46e+05  -1.0 8.89e+02    -  1.52e-05 1.48e-03f  1\n",
      "  15r 9.4609868e-02 2.99e+00 1.00e+03   0.5 0.00e+00   4.1 0.00e+00 2.79e-07R  3\n",
      "  16r 3.2028004e+00 2.69e+00 9.98e+02   0.5 2.19e+02    -  2.59e-04 4.36e-03f  1\n",
      "  17r 3.2440996e+00 2.67e+00 9.94e+02   0.5 7.67e+00   2.0 2.44e-02 3.33e-03f  1\n",
      "  18  3.0626251e+00 2.43e+00 1.98e+00  -1.0 1.08e+01    -  5.30e-02 9.22e-02f  1\n",
      "  19  4.1234616e+00 1.80e+00 3.69e+00  -1.0 7.04e+00    -  1.73e-01 2.37e-01h  1\n",
      "iter    objective    inf_pr   inf_du lg(mu)  ||d||  lg(rg) alpha_du alpha_pr  ls\n",
      "  20  7.2624238e+00 2.39e-01 9.02e+00  -1.0 4.58e+00    -  4.35e-01 1.00e+00h  1\n",
      "  21  7.1570511e+00 0.00e+00 5.02e+00  -1.0 9.21e-01    -  6.54e-01 1.00e+00f  1\n",
      "  22  5.0813603e+00 1.27e+00 7.56e-01  -1.0 4.42e+00    -  6.13e-01 1.00e+00f  1\n",
      "  23  6.5973702e+00 3.91e-01 1.87e-01  -1.0 5.12e+00    -  9.29e-01 1.00e+00h  1\n",
      "  24  6.7448395e+00 0.00e+00 1.36e+02  -1.7 3.03e-02   3.7 1.00e+00 1.00e+00h  1\n",
      "  25  6.7430395e+00 0.00e+00 8.06e-01  -1.7 5.38e-04   3.2 1.00e+00 1.00e+00h  1\n",
      "  26  6.4002481e+00 6.84e-03 1.58e-01  -1.7 3.49e+00    -  1.00e+00 2.40e-01f  1\n",
      "  27  6.2640047e+00 5.05e-02 1.12e-02  -2.5 2.29e+00    -  1.00e+00 1.00e+00h  1\n",
      "  28  6.0151208e+00 1.62e-01 5.78e-03  -2.5 4.72e+00    -  1.00e+00 1.00e+00h  1\n",
      "  29  1.4825093e+00 2.58e+00 6.91e-03  -2.5 2.35e+01    -  8.84e-01 1.00e+00h  1\n",
      "iter    objective    inf_pr   inf_du lg(mu)  ||d||  lg(rg) alpha_du alpha_pr  ls\n",
      "  30  3.7398507e+00 1.38e+00 1.86e+01  -2.5 8.07e-02   2.7 1.00e+00 4.63e-01h  2\n",
      "  31  5.1820956e+00 6.16e-01 9.32e+00  -2.5 2.04e+01    -  1.00e+00 5.00e-01h  2\n",
      "  32  5.7935141e+00 2.96e-01 4.66e+00  -2.5 7.53e+00    -  1.00e+00 5.00e-01h  2\n",
      "  33  6.3812398e+00 0.00e+00 4.74e-01  -2.5 3.45e+00    -  1.00e+00 1.00e+00h  1\n",
      "  34  6.3660170e+00 0.00e+00 3.13e-02  -2.5 1.88e-04   2.2 1.00e+00 1.00e+00h  1\n",
      "  35  6.3659884e+00 0.00e+00 6.37e-04  -2.5 1.15e-05   1.7 1.00e+00 1.00e+00h  1\n",
      "  36  6.3511009e+00 3.10e-03 3.33e-03  -3.8 2.10e+00    -  1.00e+00 1.00e+00f  1\n",
      "  37  4.4565085e+00 1.00e+00 3.92e-03  -3.8 7.95e+01    -  1.00e+00 5.72e-01h  1\n",
      "  38  5.4362597e+00 3.45e-01 2.64e+01  -3.8 5.62e+01    -  6.39e-04 5.00e-01h  2\n",
      "  39  6.3157964e+00 6.53e-02 8.81e+00  -3.8 3.14e+01    -  1.00e+00 1.00e+00h  1\n",
      "iter    objective    inf_pr   inf_du lg(mu)  ||d||  lg(rg) alpha_du alpha_pr  ls\n",
      "  40  6.3575954e+00 0.00e+00 8.44e-03  -3.8 4.57e-04   1.3 1.00e+00 1.00e+00h  1\n",
      "  41  6.3513353e+00 4.46e-03 2.78e-04  -3.8 1.02e+01    -  1.00e+00 1.00e+00h  1\n",
      "  42  2.0070696e+00 2.28e+00 3.01e-05  -3.8 1.27e+02    -  1.00e+00 1.00e+00h  1\n",
      "  43  4.9117188e+00 7.14e-01 1.96e-02  -3.8 5.35e+02    -  1.00e+00 5.00e-01h  2\n",
      "  44  5.6614633e+00 3.44e-01 5.89e-03  -3.8 1.04e+02    -  1.00e+00 5.00e-01h  2\n",
      "  45  6.3028575e+00 3.97e-02 2.22e-04  -3.8 1.20e+02    -  1.00e+00 1.00e+00h  1\n",
      "  46  5.4351482e+00 4.69e-01 6.38e-05  -3.8 2.89e+02    -  1.00e+00 1.00e+00h  1\n",
      "  47  5.9036959e+00 2.31e-01 1.26e-03  -3.8 4.36e+01    -  1.00e+00 5.00e-01h  2\n",
      "  48  6.1321527e+00 1.14e-01 4.75e-04  -3.8 1.85e+01    -  1.00e+00 5.00e-01h  2\n",
      "  49  6.2450814e+00 5.70e-02 1.49e-04  -3.8 5.37e+00    -  1.00e+00 5.00e-01h  2\n",
      "iter    objective    inf_pr   inf_du lg(mu)  ||d||  lg(rg) alpha_du alpha_pr  ls\n",
      "  50  6.3574173e+00 0.00e+00 1.07e-07  -3.8 2.16e+00    -  1.00e+00 1.00e+00h  1\n",
      "  51  6.3571468e+00 0.00e+00 4.29e-05  -5.7 5.14e-01    -  1.00e+00 1.00e+00h  1\n",
      "  52  6.3570142e+00 9.65e-05 1.15e-08  -5.7 5.95e+00    -  1.00e+00 1.00e+00h  1\n",
      "  53  6.3571471e+00 2.22e-16 5.41e-11  -5.7 5.14e-01    -  1.00e+00 1.00e+00h  1\n",
      "  54  6.3571428e+00 4.44e-16 7.11e-09  -8.6 7.07e-03    -  1.00e+00 1.00e+00h  1\n",
      "\n",
      "Number of Iterations....: 54\n",
      "\n",
      "                                   (scaled)                 (unscaled)\n",
      "Objective...............:   6.3571428343554022e+00    6.3571428343554022e+00\n",
      "Dual infeasibility......:   7.1072115829292487e-09    7.1072115829292487e-09\n",
      "Constraint violation....:   4.4408920985006262e-16    4.4408920985006262e-16\n",
      "Complementarity.........:   2.7992880119205771e-09    2.7992880119205771e-09\n",
      "Overall NLP error.......:   7.1072115829292487e-09    7.1072115829292487e-09\n",
      "\n",
      "\n",
      "Number of objective function evaluations             = 77\n",
      "Number of objective gradient evaluations             = 54\n",
      "Number of equality constraint evaluations            = 77\n",
      "Number of inequality constraint evaluations          = 77\n",
      "Number of equality constraint Jacobian evaluations   = 56\n",
      "Number of inequality constraint Jacobian evaluations = 56\n",
      "Number of Lagrangian Hessian evaluations             = 54\n",
      "Total CPU secs in IPOPT (w/o function evaluations)   =      0.280\n",
      "Total CPU secs in NLP function evaluations           =      0.206\n",
      "\n",
      "EXIT: Optimal Solution Found.\n"
     ]
    },
    {
     "data": {
      "text/plain": [
       ":Solve_Succeeded"
      ]
     },
     "execution_count": 11,
     "metadata": {},
     "output_type": "execute_result"
    }
   ],
   "source": [
    "solve(m;solver=\"Ipopt\")"
   ]
  },
  {
   "cell_type": "markdown",
   "metadata": {},
   "source": [
    "Ipopt converges in around 80 iterations and returns with the solutions stored in the variables. We can access them using the variable name as an identifier."
   ]
  },
  {
   "cell_type": "code",
   "execution_count": 12,
   "metadata": {},
   "outputs": [
    {
     "name": "stdout",
     "output_type": "stream",
     "text": [
      "First stage\n",
      "x[]= [0.00167798, 0.00237362, 0.00290732]\n",
      "y[]= [595.953, 842.594, 1031.88]\n",
      "Second stage\n",
      "Child 1: w[]= [0.0714286, 0.142857, 0.214286]\n",
      "Child 2: w[]= [0.142857, 0.285714, 0.428571]\n"
     ]
    }
   ],
   "source": [
    "# First stage\n",
    "\n",
    "println(\"First stage\")\n",
    "println(\"x[]= \", getvalue(m[:x]))\n",
    "println(\"y[]= \", getvalue(m[:y]))\n",
    "\n",
    "println(\"Second stage\")\n",
    "# All the children\n",
    "for k in 1:num_scenarios\n",
    "   println(\"Child \", k, \": w[]= \", getvalue(getchildren(m)[k][:w]))\n",
    "end"
   ]
  },
  {
   "cell_type": "code",
   "execution_count": null,
   "metadata": {},
   "outputs": [],
   "source": []
  }
 ],
 "metadata": {
  "@webio": {
   "lastCommId": null,
   "lastKernelId": null
  },
  "kernelspec": {
   "display_name": "Julia 1.1.0",
   "language": "julia",
   "name": "julia-1.1"
  },
  "language_info": {
   "file_extension": ".jl",
   "mimetype": "application/julia",
   "name": "julia",
   "version": "1.1.0"
  }
 },
 "nbformat": 4,
 "nbformat_minor": 2
}
