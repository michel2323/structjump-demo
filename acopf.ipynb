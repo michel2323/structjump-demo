{
 "cells": [
  {
   "cell_type": "code",
   "execution_count": 1,
   "metadata": {},
   "outputs": [
    {
     "data": {
      "text/plain": [
       "\"/home/michel/git/structjump-demo/Project.toml\""
      ]
     },
     "execution_count": 1,
     "metadata": {},
     "output_type": "execute_result"
    }
   ],
   "source": [
    "using Pkg\n",
    "Pkg.activate(\".\")"
   ]
  },
  {
   "cell_type": "code",
   "execution_count": 2,
   "metadata": {},
   "outputs": [
    {
     "data": {
      "text/plain": [
       "acopf_initialPt_IPOPT (generic function with 1 method)"
      ]
     },
     "execution_count": 2,
     "metadata": {},
     "output_type": "execute_result"
    }
   ],
   "source": [
    "using StructJuMP\n",
    "using StructJuMPSolverInterface\n",
    "include(\"acopf.jl\")"
   ]
  },
  {
   "cell_type": "code",
   "execution_count": 3,
   "metadata": {},
   "outputs": [
    {
     "data": {
      "text/plain": [
       "OPFData(Bus[Bus(1, 3, 0.0, 0.0, 0.0, 0.0, 1, 1.0, 0.0, 345.0, 1, 1.1, 0.9), Bus(2, 2, 0.0, 0.0, 0.0, 0.0, 1, 1.0, 0.0, 345.0, 1, 1.1, 0.9), Bus(3, 2, 0.0, 0.0, 0.0, 0.0, 1, 1.0, 0.0, 345.0, 1, 1.1, 0.9), Bus(4, 1, 0.0, 0.0, 0.0, 0.0, 1, 1.0, 0.0, 345.0, 1, 1.1, 0.9), Bus(5, 1, 90.0, 30.0, 0.0, 0.0, 1, 1.0, 0.0, 345.0, 1, 1.1, 0.9), Bus(6, 1, 0.0, 0.0, 0.0, 0.0, 1, 1.0, 0.0, 345.0, 1, 1.1, 0.9), Bus(7, 1, 100.0, 35.0, 0.0, 0.0, 1, 1.0, 0.0, 345.0, 1, 1.1, 0.9), Bus(8, 1, 0.0, 0.0, 0.0, 0.0, 1, 1.0, 0.0, 345.0, 1, 1.1, 0.9), Bus(9, 1, 125.0, 50.0, 0.0, 0.0, 1, 1.0, 0.0, 345.0, 1, 1.1, 0.9)], Line[Line(1, 4, 0.0, 0.0576, 0.0, 250.0, 250.0, 250.0, 0.0, 0.0, 1, -360.0, 360.0), Line(4, 5, 0.017, 0.092, 0.158, 250.0, 250.0, 250.0, 0.0, 0.0, 1, -360.0, 360.0), Line(5, 6, 0.039, 0.17, 0.358, 150.0, 150.0, 150.0, 0.0, 0.0, 1, -360.0, 360.0), Line(3, 6, 0.0, 0.0586, 0.0, 300.0, 300.0, 300.0, 0.0, 0.0, 1, -360.0, 360.0), Line(6, 7, 0.0119, 0.1008, 0.209, 150.0, 150.0, 150.0, 0.0, 0.0, 1, -360.0, 360.0), Line(7, 8, 0.0085, 0.072, 0.149, 250.0, 250.0, 250.0, 0.0, 0.0, 1, -360.0, 360.0), Line(8, 2, 0.0, 0.0625, 0.0, 250.0, 250.0, 250.0, 0.0, 0.0, 1, -360.0, 360.0), Line(8, 9, 0.032, 0.161, 0.306, 250.0, 250.0, 250.0, 0.0, 0.0, 1, -360.0, 360.0), Line(9, 4, 0.01, 0.085, 0.176, 250.0, 250.0, 250.0, 0.0, 0.0, 1, -360.0, 360.0)], Gener[Gener(1, 0.0, 0.0, 3.0, -3.0, 1.0, 100.0, 1, 2.5, 0.1, 0.0, 0.0, 0.0, 0.0, 0.0, 0.0, 0.0, 2, 1500.0, 0.0, 3, [0.11, 5.0, 150.0]), Gener(2, 1.63, 0.0, 3.0, -3.0, 1.0, 100.0, 1, 3.0, 0.1, 0.0, 0.0, 0.0, 0.0, 0.0, 0.0, 0.0, 2, 2000.0, 0.0, 3, [0.085, 1.2, 600.0]), Gener(3, 0.85, 0.0, 3.0, -3.0, 1.0, 100.0, 1, 2.7, 0.1, 0.0, 0.0, 0.0, 0.0, 0.0, 0.0, 0.0, 2, 3000.0, 0.0, 3, [0.1225, 1.0, 335.0])], 1, 100.0, Dict(7=>7,4=>4,9=>9,2=>2,3=>3,5=>5,8=>8,6=>6,1=>1), Array{Int64,1}[[1], [], [4], [2], [3], [5], [6], [7, 8], [9]], Array{Int64,1}[[], [7], [], [1, 9], [2], [3, 4], [5], [6], [8]], Array{Int64,1}[[1], [2], [3], [], [], [], [], [], []])"
      ]
     },
     "execution_count": 3,
     "metadata": {},
     "output_type": "execute_result"
    }
   ],
   "source": [
    "opfdata = opf_loaddata(\"data/case9\")\n"
   ]
  },
  {
   "cell_type": "markdown",
   "metadata": {},
   "source": [
    "This prints the loaded data `opfdata::OPFData`\n",
    "```julia\n",
    "mutable struct OPFData\n",
    "  buses::Array{Bus}\n",
    "  lines::Array{Line}\n",
    "  generators::Array{Gener}\n",
    "  bus_ref::Int\n",
    "  baseMVA::Float64\n",
    "  BusIdx::Dict{Int,Int}    #map from bus ID to bus index\n",
    "  FromLines::Array         #From lines for each bus (Array of Array)\n",
    "  ToLines::Array           #To lines for each bus (Array of Array)\n",
    "  BusGenerators::Array     #list of generators for each bus (Array of Array)\n",
    "end\n",
    "\n",
    "```"
   ]
  },
  {
   "cell_type": "code",
   "execution_count": 4,
   "metadata": {
    "scrolled": true
   },
   "outputs": [
    {
     "name": "stdout",
     "output_type": "stream",
     "text": [
      "Buses: 9  Lines: 9  Generators: 3\n",
      "Lines with limits  9\n"
     ]
    },
    {
     "data": {
      "text/latex": [
       "$$ \\begin{alignat*}{1}\\min\\quad & (0.11 * (100.0 * Pg_{1}) ^ 2.0 + 5.0 * (100.0 * Pg_{1}) + 150.0) + (0.085 * (100.0 * Pg_{2}) ^ 2.0 + 1.2 * (100.0 * Pg_{2}) + 600.0) + (0.1225 * (100.0 * Pg_{3}) ^ 2.0 + 1.0 * (100.0 * Pg_{3}) + 335.0)\\\\\n",
       "\\text{Subject to} \\quad & (((+0.0 + 0 + 0.0) * Vm_{1} ^ 2.0 + +(Vm_{1} * Vm_{4} * (-0.0 * cos(Va_{1} - Va_{4}) + 17.36111111111111 * sin(Va_{1} - Va_{4}))) + 0) - (+(100.0 * Pg_{1}) - 0.0) / 100.0) - 0.0 = 0\\\\\n",
       " & ((((+(--17.36111111111111) + 0) - 0.0) * Vm_{1} ^ 2.0 + +(Vm_{1} * Vm_{4} * (-17.36111111111111 * cos(Va_{1} - Va_{4}) + -0.0 * sin(Va_{1} - Va_{4}))) + 0) - (+(100.0 * Qg_{1}) - 0.0) / 100.0) - 0.0 = 0\\\\\n",
       " & (((0 + +0.0 + 0.0) * Vm_{2} ^ 2.0 + 0 + +(Vm_{2} * Vm_{8} * (0.0 * cos(Va_{2} - Va_{8}) + 16.0 * sin(Va_{2} - Va_{8})))) - (+(100.0 * Pg_{2}) - 0.0) / 100.0) - 0.0 = 0\\\\\n",
       " & ((((0 + +(--16.0)) - 0.0) * Vm_{2} ^ 2.0 + 0 + +(Vm_{2} * Vm_{8} * (-16.0 * cos(Va_{2} - Va_{8}) + 0.0 * sin(Va_{2} - Va_{8})))) - (+(100.0 * Qg_{2}) - 0.0) / 100.0) - 0.0 = 0\\\\\n",
       " & (((+0.0 + 0 + 0.0) * Vm_{3} ^ 2.0 + +(Vm_{3} * Vm_{6} * (-0.0 * cos(Va_{3} - Va_{6}) + 17.064846416382252 * sin(Va_{3} - Va_{6}))) + 0) - (+(100.0 * Pg_{3}) - 0.0) / 100.0) - 0.0 = 0\\\\\n",
       " & ((((+(--17.064846416382252) + 0) - 0.0) * Vm_{3} ^ 2.0 + +(Vm_{3} * Vm_{6} * (-17.064846416382252 * cos(Va_{3} - Va_{6}) + -0.0 * sin(Va_{3} - Va_{6}))) + 0) - (+(100.0 * Qg_{3}) - 0.0) / 100.0) - 0.0 = 0\\\\\n",
       " & (((+1.9421912487147266 + (0.0 + 1.36518771331058) + 0.0) * Vm_{4} ^ 2.0 + +(Vm_{4} * Vm_{5} * (-1.9421912487147266 * cos(Va_{4} - Va_{5}) + 10.510682051867931 * sin(Va_{4} - Va_{5}))) + (Vm_{4} * Vm_{1} * (0.0 * cos(Va_{4} - Va_{1}) + 17.36111111111111 * sin(Va_{4} - Va_{1})) + Vm_{4} * Vm_{9} * (-1.36518771331058 * cos(Va_{4} - Va_{9}) + 11.60409556313993 * sin(Va_{4} - Va_{9})))) - (0 - 0.0) / 100.0) - 0.0 = 0\\\\\n",
       " & ((((+(--10.43168205186793) + (--17.36111111111111 + --11.516095563139931)) - 0.0) * Vm_{4} ^ 2.0 + +(Vm_{4} * Vm_{5} * (-10.510682051867931 * cos(Va_{4} - Va_{5}) + -1.9421912487147266 * sin(Va_{4} - Va_{5}))) + (Vm_{4} * Vm_{1} * (-17.36111111111111 * cos(Va_{4} - Va_{1}) + 0.0 * sin(Va_{4} - Va_{1})) + Vm_{4} * Vm_{9} * (-11.60409556313993 * cos(Va_{4} - Va_{9}) + -1.36518771331058 * sin(Va_{4} - Va_{9})))) - (0 - 0.0) / 100.0) - 0.0 = 0\\\\\n",
       " & (((+1.2820091384241148 + +1.9421912487147266 + 0.0) * Vm_{5} ^ 2.0 + +(Vm_{5} * Vm_{6} * (-1.2820091384241148 * cos(Va_{5} - Va_{6}) + 5.588244962361526 * sin(Va_{5} - Va_{6}))) + +(Vm_{5} * Vm_{4} * (-1.9421912487147266 * cos(Va_{5} - Va_{4}) + 10.510682051867931 * sin(Va_{5} - Va_{4})))) - (0 - 90.0) / 100.0) - 0.0 = 0\\\\\n",
       " & ((((+(--5.409244962361526) + +(--10.43168205186793)) - 0.0) * Vm_{5} ^ 2.0 + +(Vm_{5} * Vm_{6} * (-5.588244962361526 * cos(Va_{5} - Va_{6}) + -1.2820091384241148 * sin(Va_{5} - Va_{6}))) + +(Vm_{5} * Vm_{4} * (-10.510682051867931 * cos(Va_{5} - Va_{4}) + -1.9421912487147266 * sin(Va_{5} - Va_{4})))) - (0 - 30.0) / 100.0) - 0.0 = 0\\\\\n",
       " & (((+1.155087480890097 + (1.2820091384241148 + 0.0) + 0.0) * Vm_{6} ^ 2.0 + +(Vm_{6} * Vm_{7} * (-1.155087480890097 * cos(Va_{6} - Va_{7}) + 9.784270426363173 * sin(Va_{6} - Va_{7}))) + (Vm_{6} * Vm_{5} * (-1.2820091384241148 * cos(Va_{6} - Va_{5}) + 5.588244962361526 * sin(Va_{6} - Va_{5})) + Vm_{6} * Vm_{3} * (0.0 * cos(Va_{6} - Va_{3}) + 17.064846416382252 * sin(Va_{6} - Va_{3})))) - (0 - 0.0) / 100.0) - 0.0 = 0\\\\\n",
       " & ((((+(--9.679770426363174) + (--5.409244962361526 + --17.064846416382252)) - 0.0) * Vm_{6} ^ 2.0 + +(Vm_{6} * Vm_{7} * (-9.784270426363173 * cos(Va_{6} - Va_{7}) + -1.155087480890097 * sin(Va_{6} - Va_{7}))) + (Vm_{6} * Vm_{5} * (-5.588244962361526 * cos(Va_{6} - Va_{5}) + -1.2820091384241148 * sin(Va_{6} - Va_{5})) + Vm_{6} * Vm_{3} * (-17.064846416382252 * cos(Va_{6} - Va_{3}) + 0.0 * sin(Va_{6} - Va_{3})))) - (0 - 0.0) / 100.0) - 0.0 = 0\\\\\n",
       " & (((+1.6171224732461358 + +1.155087480890097 + 0.0) * Vm_{7} ^ 2.0 + +(Vm_{7} * Vm_{8} * (-1.6171224732461358 * cos(Va_{7} - Va_{8}) + 13.697978596908444 * sin(Va_{7} - Va_{8}))) + +(Vm_{7} * Vm_{6} * (-1.155087480890097 * cos(Va_{7} - Va_{6}) + 9.784270426363173 * sin(Va_{7} - Va_{6})))) - (0 - 100.0) / 100.0) - 0.0 = 0\\\\\n",
       " & ((((+(--13.623478596908443) + +(--9.679770426363174)) - 0.0) * Vm_{7} ^ 2.0 + +(Vm_{7} * Vm_{8} * (-13.697978596908444 * cos(Va_{7} - Va_{8}) + -1.6171224732461358 * sin(Va_{7} - Va_{8}))) + +(Vm_{7} * Vm_{6} * (-9.784270426363173 * cos(Va_{7} - Va_{6}) + -1.155087480890097 * sin(Va_{7} - Va_{6})))) - (0 - 35.0) / 100.0) - 0.0 = 0\\\\\n",
       " & ((((0.0 + 1.1876043792911484) + +1.6171224732461358 + 0.0) * Vm_{8} ^ 2.0 + (Vm_{8} * Vm_{2} * (-0.0 * cos(Va_{8} - Va_{2}) + 16.0 * sin(Va_{8} - Va_{2})) + Vm_{8} * Vm_{9} * (-1.1876043792911484 * cos(Va_{8} - Va_{9}) + 5.975134533308591 * sin(Va_{8} - Va_{9}))) + +(Vm_{8} * Vm_{7} * (-1.6171224732461358 * cos(Va_{8} - Va_{7}) + 13.697978596908444 * sin(Va_{8} - Va_{7})))) - (0 - 0.0) / 100.0) - 0.0 = 0\\\\\n",
       " & (((((--16.0 + --5.822134533308591) + +(--13.623478596908443)) - 0.0) * Vm_{8} ^ 2.0 + (Vm_{8} * Vm_{2} * (-16.0 * cos(Va_{8} - Va_{2}) + -0.0 * sin(Va_{8} - Va_{2})) + Vm_{8} * Vm_{9} * (-5.975134533308591 * cos(Va_{8} - Va_{9}) + -1.1876043792911484 * sin(Va_{8} - Va_{9}))) + +(Vm_{8} * Vm_{7} * (-13.697978596908444 * cos(Va_{8} - Va_{7}) + -1.6171224732461358 * sin(Va_{8} - Va_{7})))) - (0 - 0.0) / 100.0) - 0.0 = 0\\\\\n",
       " & (((+1.36518771331058 + +1.1876043792911484 + 0.0) * Vm_{9} ^ 2.0 + +(Vm_{9} * Vm_{4} * (-1.36518771331058 * cos(Va_{9} - Va_{4}) + 11.60409556313993 * sin(Va_{9} - Va_{4}))) + +(Vm_{9} * Vm_{8} * (-1.1876043792911484 * cos(Va_{9} - Va_{8}) + 5.975134533308591 * sin(Va_{9} - Va_{8})))) - (0 - 125.0) / 100.0) - 0.0 = 0\\\\\n",
       " & ((((+(--11.516095563139931) + +(--5.822134533308591)) - 0.0) * Vm_{9} ^ 2.0 + +(Vm_{9} * Vm_{4} * (-11.60409556313993 * cos(Va_{9} - Va_{4}) + -1.36518771331058 * sin(Va_{9} - Va_{4}))) + +(Vm_{9} * Vm_{8} * (-5.975134533308591 * cos(Va_{9} - Va_{8}) + -1.1876043792911484 * sin(Va_{9} - Va_{8})))) - (0 - 50.0) / 100.0) - 0.0 = 0\\\\\n",
       " & (Vm_{1} ^ 2.0 * (301.40817901234567 * Vm_{1} ^ 2.0 + 301.40817901234567 * Vm_{4} ^ 2.0 + 2.0 * Vm_{1} * Vm_{4} * (-301.40817901234567 * cos(Va_{1} - Va_{4}) - 0.0 * sin(Va_{1} - Va_{4}))) - 6.25) - 0.0 \\leq 0\\\\\n",
       " & (Vm_{4} ^ 2.0 * (301.40817901234567 * Vm_{1} ^ 2.0 + 301.40817901234567 * Vm_{4} ^ 2.0 + 2.0 * Vm_{1} * Vm_{4} * (-301.40817901234567 * cos(Va_{1} - Va_{4}) - 0.0 * sin(Va_{1} - Va_{4}))) - 6.25) - 0.0 \\leq 0\\\\\n",
       " & (Vm_{4} ^ 2.0 * (112.59209727784759 * Vm_{4} ^ 2.0 + 114.24654404204273 * Vm_{5} ^ 2.0 + 2.0 * Vm_{4} * Vm_{5} * (-113.41620015994516 * cos(Va_{4} - Va_{5}) - -0.1534331086484677 * sin(Va_{4} - Va_{5}))) - 6.25) - 0.0 \\leq 0\\\\\n",
       " & (Vm_{5} ^ 2.0 * (114.24654404204273 * Vm_{4} ^ 2.0 + 112.59209727784759 * Vm_{5} ^ 2.0 + 2.0 * Vm_{4} * Vm_{5} * (-113.41620015994516 * cos(Va_{4} - Va_{5}) - 0.1534331086484677 * sin(Va_{4} - Va_{5}))) - 6.25) - 0.0 \\leq 0\\\\\n",
       " & (Vm_{5} ^ 2.0 * (30.903478493836484 * Vm_{5} ^ 2.0 + 32.872029190361914 * Vm_{6} ^ 2.0 + 2.0 * Vm_{5} * Vm_{6} * (-31.871733342099198 * cos(Va_{5} - Va_{6}) - -0.22947963577791697 * sin(Va_{5} - Va_{6}))) - 2.25) - 0.0 \\leq 0\\\\\n",
       " & (Vm_{6} ^ 2.0 * (32.872029190361914 * Vm_{5} ^ 2.0 + 30.903478493836484 * Vm_{6} ^ 2.0 + 2.0 * Vm_{5} * Vm_{6} * (-31.871733342099198 * cos(Va_{5} - Va_{6}) - 0.22947963577791697 * sin(Va_{5} - Va_{6}))) - 2.25) - 0.0 \\leq 0\\\\\n",
       " & (Vm_{3} ^ 2.0 * (291.2089832147142 * Vm_{3} ^ 2.0 + 291.2089832147142 * Vm_{6} ^ 2.0 + 2.0 * Vm_{3} * Vm_{6} * (-291.2089832147142 * cos(Va_{3} - Va_{6}) - 0.0 * sin(Va_{3} - Va_{6}))) - 9.0) - 0.0 \\leq 0\\\\\n",
       " & (Vm_{6} ^ 2.0 * (291.2089832147142 * Vm_{3} ^ 2.0 + 291.2089832147142 * Vm_{6} ^ 2.0 + 2.0 * Vm_{3} * Vm_{6} * (-291.2089832147142 * cos(Va_{3} - Va_{6}) - 0.0 * sin(Va_{3} - Va_{6}))) - 9.0) - 0.0 \\leq 0\\\\\n",
       " & (Vm_{6} ^ 2.0 * (95.03218259560413 * Vm_{6} ^ 2.0 + 97.06617486471401 * Vm_{7} ^ 2.0 + 2.0 * Vm_{6} * Vm_{7} * (-96.04371860515907 * cos(Va_{6} - Va_{7}) - -0.12070664175301538 * sin(Va_{6} - Va_{7}))) - 2.25) - 0.0 \\leq 0\\\\\n",
       " & (Vm_{7} ^ 2.0 * (97.06617486471401 * Vm_{6} ^ 2.0 + 95.03218259560413 * Vm_{7} ^ 2.0 + 2.0 * Vm_{6} * Vm_{7} * (-96.04371860515907 * cos(Va_{6} - Va_{7}) - 0.12070664175301538 * sin(Va_{6} - Va_{7}))) - 2.25) - 0.0 \\leq 0\\\\\n",
       " & (Vm_{7} ^ 2.0 * (188.21425417390012 * Vm_{7} ^ 2.0 + 190.2497027348395 * Vm_{8} ^ 2.0 + 2.0 * Vm_{7} * Vm_{8} * (-189.22920332936982 * cos(Va_{7} - Va_{8}) - -0.12047562425683722 * sin(Va_{7} - Va_{8}))) - 6.25) - 0.0 \\leq 0\\\\\n",
       " & (Vm_{8} ^ 2.0 * (190.2497027348395 * Vm_{7} ^ 2.0 + 188.21425417390012 * Vm_{8} ^ 2.0 + 2.0 * Vm_{7} * Vm_{8} * (-189.22920332936982 * cos(Va_{7} - Va_{8}) - 0.12047562425683722 * sin(Va_{7} - Va_{8}))) - 6.25) - 0.0 \\leq 0\\\\\n",
       " & (Vm_{8} ^ 2.0 * (256.0 * Vm_{8} ^ 2.0 + 256.0 * Vm_{2} ^ 2.0 + 2.0 * Vm_{8} * Vm_{2} * (-256.0 * cos(Va_{8} - Va_{2}) - 0.0 * sin(Va_{8} - Va_{2}))) - 6.25) - 0.0 \\leq 0\\\\\n",
       " & (Vm_{2} ^ 2.0 * (256.0 * Vm_{8} ^ 2.0 + 256.0 * Vm_{2} ^ 2.0 + 2.0 * Vm_{8} * Vm_{2} * (-256.0 * cos(Va_{8} - Va_{2}) - 0.0 * sin(Va_{8} - Va_{2}))) - 6.25) - 0.0 \\leq 0\\\\\n",
       " & (Vm_{8} ^ 2.0 * (35.30765468565596 * Vm_{8} ^ 2.0 + 37.11263685284838 * Vm_{9} ^ 2.0 + 2.0 * Vm_{8} * Vm_{9} * (-36.19844126925217 * cos(Va_{8} - Va_{9}) - -0.18170347003154586 * sin(Va_{8} - Va_{9}))) - 6.25) - 0.0 \\leq 0\\\\\n",
       " & (Vm_{9} ^ 2.0 * (37.11263685284838 * Vm_{8} ^ 2.0 + 35.30765468565596 * Vm_{9} ^ 2.0 + 2.0 * Vm_{8} * Vm_{9} * (-36.19844126925217 * cos(Va_{8} - Va_{9}) - 0.18170347003154586 * sin(Va_{8} - Va_{9}))) - 6.25) - 0.0 \\leq 0\\\\\n",
       " & (Vm_{9} ^ 2.0 * (134.48419451194536 * Vm_{9} ^ 2.0 + 136.51877133105796 * Vm_{4} ^ 2.0 + 2.0 * Vm_{9} * Vm_{4} * (-135.49761092150166 * cos(Va_{9} - Va_{4}) - -0.12013651877133036 * sin(Va_{9} - Va_{4}))) - 6.25) - 0.0 \\leq 0\\\\\n",
       " & (Vm_{4} ^ 2.0 * (136.51877133105796 * Vm_{9} ^ 2.0 + 134.48419451194536 * Vm_{4} ^ 2.0 + 2.0 * Vm_{9} * Vm_{4} * (-135.49761092150166 * cos(Va_{9} - Va_{4}) - 0.12013651877133036 * sin(Va_{9} - Va_{4}))) - 6.25) - 0.0 \\leq 0\\\\\n",
       " & -3 \\leq Qg_{i} \\leq 3 \\quad\\forall i \\in \\{1,2,3\\}\\\\\n",
       " & 0.9 \\leq Vm_{i} \\leq 1.1 \\quad\\forall i \\in \\{1,2,\\dots,8,9\\}\\\\\n",
       " & 0.1 \\leq Pg_{1} \\leq 2.5\\\\\n",
       " & 0.1 \\leq Pg_{2} \\leq 3\\\\\n",
       " & 0.1 \\leq Pg_{3} \\leq 2.7\\\\\n",
       " & 0 \\leq Va_{1} \\leq 0\\\\\n",
       " & Va_{2}\\\\\n",
       " & Va_{3}\\\\\n",
       " & Va_{4}\\\\\n",
       " & Va_{5}\\\\\n",
       " & Va_{6}\\\\\n",
       " & Va_{7}\\\\\n",
       " & Va_{8}\\\\\n",
       " & Va_{9}\\\\\n",
       "\\end{alignat*}\n",
       " $$"
      ],
      "text/plain": [
       "Minimization problem with:\n",
       " * 0 linear constraints\n",
       " * 36 nonlinear constraints\n",
       " * 24 variables\n",
       "Solver is default solver"
      ]
     },
     "execution_count": 4,
     "metadata": {},
     "output_type": "execute_result"
    }
   ],
   "source": [
    "opfmodel = acopf_model(opfdata)"
   ]
  },
  {
   "cell_type": "markdown",
   "metadata": {},
   "source": [
    "The output is a fill OPF model of the IEEE 9-bus system."
   ]
  },
  {
   "cell_type": "markdown",
   "metadata": {},
   "source": [
    "We still have to initialize the model variables. We access the first-stage variables active and reactive power constraints plus the voltages and set them to initial values that are computed in `acopf_initialPt_IPOPT`."
   ]
  },
  {
   "cell_type": "code",
   "execution_count": 5,
   "metadata": {},
   "outputs": [],
   "source": [
    "Pg0,Qg0,Vm0,Va0 = acopf_initialPt_IPOPT(opfdata)\n",
    "setvalue(opfmodel[:Pg], Pg0)  \n",
    "setvalue(opfmodel[:Qg], Qg0)\n",
    "setvalue(opfmodel[:Vm], Vm0)\n",
    "setvalue(opfmodel[:Va], Va0)"
   ]
  },
  {
   "cell_type": "markdown",
   "metadata": {},
   "source": [
    "Finally we solve the model using Ipopt."
   ]
  },
  {
   "cell_type": "code",
   "execution_count": 6,
   "metadata": {},
   "outputs": [
    {
     "name": "stdout",
     "output_type": "stream",
     "text": [
      "\n",
      "******************************************************************************\n",
      "This program contains Ipopt, a library for large-scale nonlinear optimization.\n",
      " Ipopt is released as open source code under the Eclipse Public License (EPL).\n",
      "         For more information visit http://projects.coin-or.org/Ipopt\n",
      "******************************************************************************\n",
      "\n",
      "This is Ipopt version 3.12.10, running with linear solver mumps.\n",
      "NOTE: Other linear solvers might be more efficient (see Ipopt documentation).\n",
      "\n",
      "Number of nonzeros in equality constraint Jacobian...:      110\n",
      "Number of nonzeros in inequality constraint Jacobian.:       70\n",
      "Number of nonzeros in Lagrangian Hessian.............:      465\n",
      "\n",
      "Total number of variables............................:       23\n",
      "                     variables with only lower bounds:        0\n",
      "                variables with lower and upper bounds:       15\n",
      "                     variables with only upper bounds:        0\n",
      "Total number of equality constraints.................:       18\n",
      "Total number of inequality constraints...............:       18\n",
      "        inequality constraints with only lower bounds:        0\n",
      "   inequality constraints with lower and upper bounds:        0\n",
      "        inequality constraints with only upper bounds:       18\n",
      "\n",
      "iter    objective    inf_pr   inf_du lg(mu)  ||d||  lg(rg) alpha_du alpha_pr  ls\n",
      "   0  8.3631250e+03 1.55e+00 1.25e+01  -1.0 0.00e+00    -  0.00e+00 0.00e+00   0\n",
      "   1  5.2210477e+03 1.07e-01 8.36e+01  -1.0 4.59e-01    -  7.76e-01 1.00e+00f  1\n",
      "   2  5.3090900e+03 5.60e-03 3.35e+00  -1.0 1.79e+00    -  1.00e+00 1.00e+00h  1\n",
      "   3  5.3077048e+03 3.30e-04 7.08e-02  -1.0 2.10e-02    -  1.00e+00 1.00e+00h  1\n",
      "   4  5.3035894e+03 1.64e-03 1.03e-01  -2.5 3.18e-02    -  8.40e-01 1.00e+00f  1\n",
      "   5  5.2972217e+03 4.41e-03 4.35e-02  -2.5 4.83e-02    -  1.00e+00 1.00e+00h  1\n",
      "   6  5.2969589e+03 3.88e-05 1.18e-03  -2.5 1.16e-02    -  1.00e+00 1.00e+00h  1\n",
      "   7  5.2967276e+03 3.02e-05 2.42e-01  -3.8 2.08e-02    -  1.00e+00 7.06e-01h  1\n",
      "   8  5.2966956e+03 1.46e-05 1.36e-04  -3.8 9.28e-03    -  1.00e+00 1.00e+00f  1\n",
      "   9  5.2966870e+03 2.95e-06 8.85e-03  -5.7 4.18e-03    -  9.42e-01 9.97e-01h  1\n",
      "iter    objective    inf_pr   inf_du lg(mu)  ||d||  lg(rg) alpha_du alpha_pr  ls\n",
      "  10  5.2966865e+03 1.78e-07 2.78e-06  -5.7 1.06e-03    -  1.00e+00 1.00e+00f  1\n",
      "  11  5.2966862e+03 2.80e-09 8.87e-08  -8.6 1.30e-04    -  1.00e+00 1.00e+00h  1\n",
      "  12  5.2966862e+03 2.97e-13 5.45e-12  -8.6 1.36e-06    -  1.00e+00 1.00e+00h  1\n",
      "\n",
      "Number of Iterations....: 12\n",
      "\n",
      "                                   (scaled)                 (unscaled)\n",
      "Objective...............:   1.5004776777573366e+02    5.2966862024833972e+03\n",
      "Dual infeasibility......:   5.4521508200173108e-12    1.9246092394661107e-10\n",
      "Constraint violation....:   2.9681812563353560e-13    2.9681812563353560e-13\n",
      "Complementarity.........:   2.5121008545092381e-09    8.8677160164176087e-08\n",
      "Overall NLP error.......:   2.5121008545092381e-09    8.8677160164176087e-08\n",
      "\n",
      "\n",
      "Number of objective function evaluations             = 13\n",
      "Number of objective gradient evaluations             = 13\n",
      "Number of equality constraint evaluations            = 13\n",
      "Number of inequality constraint evaluations          = 13\n",
      "Number of equality constraint Jacobian evaluations   = 13\n",
      "Number of inequality constraint Jacobian evaluations = 13\n",
      "Number of Lagrangian Hessian evaluations             = 12\n",
      "Total CPU secs in IPOPT (w/o function evaluations)   =      0.300\n",
      "Total CPU secs in NLP function evaluations           =      0.251\n",
      "\n",
      "EXIT: Optimal Solution Found.\n"
     ]
    },
    {
     "data": {
      "text/plain": [
       ":Solve_Succeeded"
      ]
     },
     "execution_count": 6,
     "metadata": {},
     "output_type": "execute_result"
    }
   ],
   "source": [
    "solve(opfmodel;solver=\"Ipopt\")"
   ]
  },
  {
   "cell_type": "code",
   "execution_count": 7,
   "metadata": {},
   "outputs": [
    {
     "name": "stdout",
     "output_type": "stream",
     "text": [
      "Objective value: 0USD/hr\n",
      "============================= BUSES ==================================\n",
      "  BUS    Vm     Va   |   Pg (MW)    Qg(MVAr) \n",
      "                     |     (generation)      \n",
      "----------------------------------------------------------------------\n",
      "   1 |   1.10    0.00 |   89.80       12.97  | \n",
      "   2 |   1.10    4.89 |  134.32        0.03  | \n",
      "   3 |   1.09    3.25 |   94.19      -22.63  | \n",
      "   4 |   1.09   -2.46 |    --          --    | \n",
      "   5 |   1.08   -3.98 |    --          --    | \n",
      "   6 |   1.10    0.60 |    --          --    | \n",
      "   7 |   1.09   -1.20 |    --          --    | \n",
      "   8 |   1.10    0.91 |    --          --    | \n",
      "   9 |   1.07   -4.62 |    --          --    | \n",
      "\n",
      "\n",
      "Number of lines with flow limits: 9\n",
      "================ Lines within 20 % of flow capacity ===================\n",
      "Line   From Bus    To Bus    At capacity\n",
      "  6        7        8        83.546%\n",
      "  9        9        4        81.473%\n"
     ]
    },
    {
     "name": "stderr",
     "output_type": "stream",
     "text": [
      "\n",
      "signal (15): Terminated\n",
      "in expression starting at /home/michel/.julia/packages/IJulia/gI2uA/src/kernel.jl:52\n"
     ]
    }
   ],
   "source": [
    "acopf_outputAll(opfmodel,opfdata)"
   ]
  },
  {
   "cell_type": "code",
   "execution_count": null,
   "metadata": {},
   "outputs": [],
   "source": []
  }
 ],
 "metadata": {
  "@webio": {
   "lastCommId": null,
   "lastKernelId": null
  },
  "kernelspec": {
   "display_name": "Julia 1.1.0",
   "language": "julia",
   "name": "julia-1.1"
  },
  "language_info": {
   "file_extension": ".jl",
   "mimetype": "application/julia",
   "name": "julia",
   "version": "1.1.0"
  }
 },
 "nbformat": 4,
 "nbformat_minor": 2
}
